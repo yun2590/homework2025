{
  "cells": [
    {
      "cell_type": "markdown",
      "metadata": {
        "id": "view-in-github",
        "colab_type": "text"
      },
      "source": [
        "<a href=\"https://colab.research.google.com/github/yun2590/homework2025/blob/main/%ED%8C%8C%EC%9D%B4%EC%8D%AC%20Unit98.ipynb\" target=\"_parent\"><img src=\"https://colab.research.google.com/assets/colab-badge.svg\" alt=\"Open In Colab\"/></a>"
      ]
    },
    {
      "cell_type": "code",
      "source": [
        "set1 = set('abradacabra')\n",
        "set2 = set('abbreviation')"
      ],
      "metadata": {
        "id": "pyZ0x2cLyC39"
      },
      "execution_count": 7,
      "outputs": []
    },
    {
      "cell_type": "code",
      "source": [
        "ret = set1|set2\n",
        "print(ret)"
      ],
      "metadata": {
        "id": "0ImvTYAQyREY",
        "outputId": "dbaa1e48-0c11-44be-f794-eb0b8e5e0623",
        "colab": {
          "base_uri": "https://localhost:8080/"
        }
      },
      "execution_count": 8,
      "outputs": [
        {
          "output_type": "stream",
          "name": "stdout",
          "text": [
            "{'i', 'b', 'o', 'a', 'c', 't', 'n', 'v', 'e', 'd', 'r'}\n"
          ]
        }
      ]
    },
    {
      "cell_type": "code",
      "source": [
        "ret = set1&set2\n",
        "print(ret)"
      ],
      "metadata": {
        "id": "rnRXsNy9yl3R",
        "outputId": "0f362cd3-8479-4b69-f2b1-93a3436ef28f",
        "colab": {
          "base_uri": "https://localhost:8080/"
        }
      },
      "execution_count": 10,
      "outputs": [
        {
          "output_type": "stream",
          "name": "stdout",
          "text": [
            "{'b', 'r', 'a'}\n"
          ]
        }
      ]
    },
    {
      "cell_type": "code",
      "source": [
        "ret = set1-set2\n",
        "print(ret)"
      ],
      "metadata": {
        "id": "PNxskSrsyshd",
        "outputId": "385c1555-6f46-41dc-f74e-68d1864fe894",
        "colab": {
          "base_uri": "https://localhost:8080/"
        }
      },
      "execution_count": 11,
      "outputs": [
        {
          "output_type": "stream",
          "name": "stdout",
          "text": [
            "{'d', 'c'}\n"
          ]
        }
      ]
    },
    {
      "cell_type": "code",
      "source": [
        "ret = set1^set2\n",
        "print(ret)"
      ],
      "metadata": {
        "id": "m509HPSpyxnq",
        "outputId": "e5a97f2c-2893-4d50-9336-031566a2b51d",
        "colab": {
          "base_uri": "https://localhost:8080/"
        }
      },
      "execution_count": 12,
      "outputs": [
        {
          "output_type": "stream",
          "name": "stdout",
          "text": [
            "{'i', 'o', 't', 'n', 'c', 'v', 'e', 'd'}\n"
          ]
        }
      ]
    },
    {
      "cell_type": "code",
      "source": [
        "ret = set1 <= set2\n",
        "print(ret)"
      ],
      "metadata": {
        "id": "dFpl1600y5XM",
        "outputId": "111159cd-af93-49b0-d13f-855bf4f870f9",
        "colab": {
          "base_uri": "https://localhost:8080/"
        }
      },
      "execution_count": 13,
      "outputs": [
        {
          "output_type": "stream",
          "name": "stdout",
          "text": [
            "False\n"
          ]
        }
      ]
    },
    {
      "cell_type": "code",
      "source": [
        "set1 =| set2    #set1 | set2의 결과를 set1으로 업데이트\n",
        "set1 &= set2    #set1 & set2의 결과를 set1으로 업데이트\n",
        "set1 -= set2    #set1 - set2의 결과를 set1으로 업데이트\n",
        "set1 ^= set2    #set1 ^ set2의 결과를 set1으로 업데이트"
      ],
      "metadata": {
        "id": "q8oD6k8hy-s9"
      },
      "execution_count": null,
      "outputs": []
    }
  ],
  "metadata": {
    "colab": {
      "name": "Colab 시작하기",
      "toc_visible": true,
      "provenance": [],
      "include_colab_link": true
    },
    "kernelspec": {
      "display_name": "Python 3",
      "name": "python3"
    }
  },
  "nbformat": 4,
  "nbformat_minor": 0
}