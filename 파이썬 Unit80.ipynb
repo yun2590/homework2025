{
  "cells": [
    {
      "cell_type": "markdown",
      "metadata": {
        "id": "view-in-github",
        "colab_type": "text"
      },
      "source": [
        "<a href=\"https://colab.research.google.com/github/yun2590/homework2025/blob/main/%ED%8C%8C%EC%9D%B4%EC%8D%AC%20Unit80.ipynb\" target=\"_parent\"><img src=\"https://colab.research.google.com/assets/colab-badge.svg\" alt=\"Open In Colab\"/></a>"
      ]
    },
    {
      "cell_type": "code",
      "source": [
        "numbers = ['1004', '-1', '3.14', 'IX', '⁷/₈', '5²', '50%']"
      ],
      "metadata": {
        "id": "YArcPu-rN8ok"
      },
      "execution_count": 23,
      "outputs": []
    },
    {
      "cell_type": "code",
      "source": [
        "for number in numbers:\n",
        "  print(f'\"{number}\" \\t--> {number.isdecimal()}')"
      ],
      "metadata": {
        "id": "SnknqPcdO3p7",
        "outputId": "8f44c0bf-1ebe-4e98-de63-79bdf874204f",
        "colab": {
          "base_uri": "https://localhost:8080/"
        }
      },
      "execution_count": 24,
      "outputs": [
        {
          "output_type": "stream",
          "name": "stdout",
          "text": [
            "\"1004\" \t--> True\n",
            "\"-1\" \t--> False\n",
            "\"3.14\" \t--> False\n",
            "\"IX\" \t--> False\n",
            "\"⁷/₈\" \t--> False\n",
            "\"5²\" \t--> False\n",
            "\"50%\" \t--> False\n"
          ]
        }
      ]
    },
    {
      "cell_type": "code",
      "source": [
        "for number in numbers:\n",
        "  print(f'\"{number}\" \\t--> {number.isdigit()}')"
      ],
      "metadata": {
        "id": "0DPZZZnvPS9e",
        "outputId": "3fbe6664-56da-497b-e881-28e6bf3c0868",
        "colab": {
          "base_uri": "https://localhost:8080/"
        }
      },
      "execution_count": 25,
      "outputs": [
        {
          "output_type": "stream",
          "name": "stdout",
          "text": [
            "\"1004\" \t--> True\n",
            "\"-1\" \t--> False\n",
            "\"3.14\" \t--> False\n",
            "\"IX\" \t--> False\n",
            "\"⁷/₈\" \t--> False\n",
            "\"5²\" \t--> True\n",
            "\"50%\" \t--> False\n"
          ]
        }
      ]
    },
    {
      "cell_type": "code",
      "source": [
        "for number in numbers:\n",
        "  print(f'\"{number}\" \\t--> {number.isnumeric()}')"
      ],
      "metadata": {
        "id": "LZDEZbLAPeWC",
        "outputId": "d429d032-6349-4cc6-83c0-ea7b63b1ef04",
        "colab": {
          "base_uri": "https://localhost:8080/"
        }
      },
      "execution_count": 26,
      "outputs": [
        {
          "output_type": "stream",
          "name": "stdout",
          "text": [
            "\"1004\" \t--> True\n",
            "\"-1\" \t--> False\n",
            "\"3.14\" \t--> False\n",
            "\"IX\" \t--> False\n",
            "\"⁷/₈\" \t--> False\n",
            "\"5²\" \t--> True\n",
            "\"50%\" \t--> False\n"
          ]
        }
      ]
    }
  ],
  "metadata": {
    "colab": {
      "name": "Colab 시작하기",
      "toc_visible": true,
      "provenance": [],
      "include_colab_link": true
    },
    "kernelspec": {
      "display_name": "Python 3",
      "name": "python3"
    }
  },
  "nbformat": 4,
  "nbformat_minor": 0
}