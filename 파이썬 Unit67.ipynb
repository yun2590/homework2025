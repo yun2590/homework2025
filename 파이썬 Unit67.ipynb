{
  "cells": [
    {
      "cell_type": "markdown",
      "metadata": {
        "id": "view-in-github",
        "colab_type": "text"
      },
      "source": [
        "<a href=\"https://colab.research.google.com/github/yun2590/homework2025/blob/main/%ED%8C%8C%EC%9D%B4%EC%8D%AC%20Unit67.ipynb\" target=\"_parent\"><img src=\"https://colab.research.google.com/assets/colab-badge.svg\" alt=\"Open In Colab\"/></a>"
      ]
    },
    {
      "cell_type": "code",
      "source": [
        "import random\n",
        "numList=list(range(1,11))\n",
        "random.shuffle(numList)\n",
        "print(numList)"
      ],
      "metadata": {
        "colab": {
          "base_uri": "https://localhost:8080/"
        },
        "id": "gG58EYVWH_2m",
        "outputId": "ffdfd62f-dfe9-4c8a-f9bd-e7a60c3bdd52"
      },
      "execution_count": 10,
      "outputs": [
        {
          "output_type": "stream",
          "name": "stdout",
          "text": [
            "[3, 9, 2, 4, 6, 10, 1, 5, 7, 8]\n"
          ]
        }
      ]
    },
    {
      "cell_type": "code",
      "source": [
        "numList=list(range(1,11))\n",
        "copied=numList.copy()\n",
        "random.shuffle(copied)\n",
        "print(f'numList: {numList}')\n",
        "print(f'copied: {copied}')"
      ],
      "metadata": {
        "id": "aEshkDWqIoIs",
        "outputId": "d6ffb83a-8075-48be-8334-579ea19f7a06",
        "colab": {
          "base_uri": "https://localhost:8080/"
        }
      },
      "execution_count": 12,
      "outputs": [
        {
          "output_type": "stream",
          "name": "stdout",
          "text": [
            "numList: [1, 2, 3, 4, 5, 6, 7, 8, 9, 10]\n",
            "copied: [7, 1, 5, 2, 10, 3, 4, 8, 6, 9]\n"
          ]
        }
      ]
    }
  ],
  "metadata": {
    "colab": {
      "name": "Colab 시작하기",
      "toc_visible": true,
      "provenance": [],
      "include_colab_link": true
    },
    "kernelspec": {
      "display_name": "Python 3",
      "name": "python3"
    }
  },
  "nbformat": 4,
  "nbformat_minor": 0
}