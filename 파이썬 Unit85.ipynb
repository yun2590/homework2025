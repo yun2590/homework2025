{
  "cells": [
    {
      "cell_type": "markdown",
      "metadata": {
        "id": "view-in-github",
        "colab_type": "text"
      },
      "source": [
        "<a href=\"https://colab.research.google.com/github/yun2590/homework2025/blob/main/%ED%8C%8C%EC%9D%B4%EC%8D%AC%20Unit85.ipynb\" target=\"_parent\"><img src=\"https://colab.research.google.com/assets/colab-badge.svg\" alt=\"Open In Colab\"/></a>"
      ]
    },
    {
      "cell_type": "code",
      "source": [
        "numData = ['5','27','342','1004']\n",
        "for numstr in numData:\n",
        "  ret = numstr.zfill(4)\n",
        "  print(ret)"
      ],
      "metadata": {
        "id": "fHD1ju97YJ19",
        "outputId": "46c1822a-fd3a-4fe0-f7e2-e5f1606884e1",
        "colab": {
          "base_uri": "https://localhost:8080/"
        }
      },
      "execution_count": 4,
      "outputs": [
        {
          "output_type": "stream",
          "name": "stdout",
          "text": [
            "0005\n",
            "0027\n",
            "0342\n",
            "1004\n"
          ]
        }
      ]
    },
    {
      "cell_type": "code",
      "source": [
        "numData = ['-5','-27','-342','-1004']\n",
        "for numstr in numData:\n",
        "  ret = numstr.zfill(4)\n",
        "  print(ret)"
      ],
      "metadata": {
        "id": "WvaStuqMYYNW",
        "outputId": "967979bd-3f13-4610-d789-c1f497972dda",
        "colab": {
          "base_uri": "https://localhost:8080/"
        }
      },
      "execution_count": 5,
      "outputs": [
        {
          "output_type": "stream",
          "name": "stdout",
          "text": [
            "-005\n",
            "-027\n",
            "-342\n",
            "-1004\n"
          ]
        }
      ]
    }
  ],
  "metadata": {
    "colab": {
      "name": "Colab 시작하기",
      "toc_visible": true,
      "provenance": [],
      "include_colab_link": true
    },
    "kernelspec": {
      "display_name": "Python 3",
      "name": "python3"
    }
  },
  "nbformat": 4,
  "nbformat_minor": 0
}