{
  "cells": [
    {
      "cell_type": "markdown",
      "metadata": {
        "id": "view-in-github",
        "colab_type": "text"
      },
      "source": [
        "<a href=\"https://colab.research.google.com/github/yun2590/homework2025/blob/main/%ED%8C%8C%EC%9D%B4%EC%8D%AC%20Unit21.ipynb\" target=\"_parent\"><img src=\"https://colab.research.google.com/assets/colab-badge.svg\" alt=\"Open In Colab\"/></a>"
      ]
    },
    {
      "cell_type": "code",
      "source": [
        "x=2\n",
        "y=4\n",
        "print(x*y)\n",
        "print(x/y)\n",
        "print(x**y)"
      ],
      "metadata": {
        "id": "FUCFKrQdUcwW",
        "outputId": "8dbdca5d-ac8c-4840-9363-949c1f0965fc",
        "colab": {
          "base_uri": "https://localhost:8080/"
        }
      },
      "execution_count": 9,
      "outputs": [
        {
          "output_type": "stream",
          "name": "stdout",
          "text": [
            "8\n",
            "0.5\n",
            "16\n"
          ]
        }
      ]
    },
    {
      "cell_type": "code",
      "source": [
        "x=5\n",
        "y=2\n",
        "print(x//y)\n",
        "print(x%y)"
      ],
      "metadata": {
        "id": "IUtEpO-wUme_",
        "outputId": "8c4f70fe-ec67-4b78-c7b1-45b83eb3cb89",
        "colab": {
          "base_uri": "https://localhost:8080/"
        }
      },
      "execution_count": 10,
      "outputs": [
        {
          "output_type": "stream",
          "name": "stdout",
          "text": [
            "2\n",
            "1\n"
          ]
        }
      ]
    }
  ],
  "metadata": {
    "colab": {
      "name": "Colab 시작하기",
      "toc_visible": true,
      "provenance": [],
      "include_colab_link": true
    },
    "kernelspec": {
      "display_name": "Python 3",
      "name": "python3"
    }
  },
  "nbformat": 4,
  "nbformat_minor": 0
}