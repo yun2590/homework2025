{
  "cells": [
    {
      "cell_type": "markdown",
      "metadata": {
        "id": "view-in-github",
        "colab_type": "text"
      },
      "source": [
        "<a href=\"https://colab.research.google.com/github/yun2590/homework2025/blob/main/%ED%8C%8C%EC%9D%B4%EC%8D%AC%20Unit34.ipynb\" target=\"_parent\"><img src=\"https://colab.research.google.com/assets/colab-badge.svg\" alt=\"Open In Colab\"/></a>"
      ]
    },
    {
      "cell_type": "code",
      "source": [
        "for <변수(들)> in <반복 가능 자료>:"
      ],
      "metadata": {
        "id": "F3Xrwq7G_N1E"
      },
      "execution_count": null,
      "outputs": []
    },
    {
      "cell_type": "code",
      "source": [
        "# <반복 가능 자료>예시\n",
        "iterableData1 = [1,2,3,4,5]                     #리스트\n",
        "iterableData2 = ('a','b','c')                   #튜플\n",
        "iterableData3 = 'I love python!'                #문자열\n",
        "iterableData6 = range(10)                       #range() 객체\n",
        "iterableData4 = {97:'a', 98:'b'}                #딕셔너리\n",
        "iterableData5 = {'사과', '배', '오렌지'}        #set 자료"
      ],
      "metadata": {
        "id": "I-S41iQD_Tgb"
      },
      "execution_count": 7,
      "outputs": []
    }
  ],
  "metadata": {
    "colab": {
      "name": "Colab 시작하기",
      "toc_visible": true,
      "provenance": [],
      "include_colab_link": true
    },
    "kernelspec": {
      "display_name": "Python 3",
      "name": "python3"
    }
  },
  "nbformat": 4,
  "nbformat_minor": 0
}