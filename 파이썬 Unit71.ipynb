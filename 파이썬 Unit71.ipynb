{
  "cells": [
    {
      "cell_type": "markdown",
      "metadata": {
        "id": "view-in-github",
        "colab_type": "text"
      },
      "source": [
        "<a href=\"https://colab.research.google.com/github/yun2590/homework2025/blob/main/%ED%8C%8C%EC%9D%B4%EC%8D%AC%20Unit71.ipynb\" target=\"_parent\"><img src=\"https://colab.research.google.com/assets/colab-badge.svg\" alt=\"Open In Colab\"/></a>"
      ]
    },
    {
      "cell_type": "code",
      "source": [
        "strData1='안녕하세요'\n",
        "strData2='작은따옴표는 \"큰따옴표\"를 포함하는 문자열이 가능합니다.'\n",
        "print(strData1)\n",
        "print(strData2)"
      ],
      "metadata": {
        "id": "aTxTJsGk6-iF",
        "outputId": "d79271b9-b6eb-466b-c2a9-e166f4e87af1",
        "colab": {
          "base_uri": "https://localhost:8080/"
        }
      },
      "execution_count": 6,
      "outputs": [
        {
          "output_type": "stream",
          "name": "stdout",
          "text": [
            "안녕하세요\n",
            "작은따옴표는 \"큰따옴표\"를 포함하는 문자열이 가능합니다.\n"
          ]
        }
      ]
    },
    {
      "cell_type": "code",
      "source": [
        "strData3=\"안녕하세요\"\n",
        "strData4=\"큰따옴표는 '작은따옴표'를 포함하는 문자열이 가능합니다.\"\n",
        "print(strData3)\n",
        "print(strData4)"
      ],
      "metadata": {
        "id": "NBXxEFIB7dNs",
        "outputId": "8036851a-e61a-4ef2-ae4b-4395f2820f68",
        "colab": {
          "base_uri": "https://localhost:8080/"
        }
      },
      "execution_count": 7,
      "outputs": [
        {
          "output_type": "stream",
          "name": "stdout",
          "text": [
            "안녕하세요\n",
            "큰따옴표는 '작은따옴표'를 포함하는 문자열이 가능합니다.\n"
          ]
        }
      ]
    },
    {
      "cell_type": "code",
      "source": [
        "strData5='''3중 작은따옴표는\n",
        "        여러 줄에 걸친 문자열이 가능합니다'''\n",
        "print(strData5)"
      ],
      "metadata": {
        "id": "EyWLklBf7wk3",
        "outputId": "b35a778a-fff7-46ee-c095-be83d8c70e29",
        "colab": {
          "base_uri": "https://localhost:8080/"
        }
      },
      "execution_count": 8,
      "outputs": [
        {
          "output_type": "stream",
          "name": "stdout",
          "text": [
            "3중 작은따옴표는 \n",
            "        여러 줄에 걸친 문자열이 가능합니다\n"
          ]
        }
      ]
    },
    {
      "cell_type": "code",
      "source": [
        "strData6=\"\"\"3중 큰따옴표 역시\n",
        "여러 줄에 걸친 문자열이 가능합니다\"\"\"\n",
        "print(strData6)"
      ],
      "metadata": {
        "id": "40Vvjb8J8Al1",
        "outputId": "9954e071-e9ec-4bdf-c82b-59050ca6660c",
        "colab": {
          "base_uri": "https://localhost:8080/"
        }
      },
      "execution_count": 9,
      "outputs": [
        {
          "output_type": "stream",
          "name": "stdout",
          "text": [
            "3중 큰따옴표 역시\n",
            "여러 줄에 걸친 문자열이 가능합니다\n"
          ]
        }
      ]
    },
    {
      "cell_type": "code",
      "source": [
        "while ret != None:\n",
        "  \"\"\"print(f'큐에서 데이터 추출\" {ret}')\n",
        "  print(f'큐상태: {myqueue}')\n",
        "  print('---------------')\"\"\"              #여러 줄의 주석처리 예\n",
        "  ret=popData()"
      ],
      "metadata": {
        "id": "A-SYdQM28swi"
      },
      "execution_count": null,
      "outputs": []
    }
  ],
  "metadata": {
    "colab": {
      "name": "Colab 시작하기",
      "toc_visible": true,
      "provenance": [],
      "include_colab_link": true
    },
    "kernelspec": {
      "display_name": "Python 3",
      "name": "python3"
    }
  },
  "nbformat": 4,
  "nbformat_minor": 0
}