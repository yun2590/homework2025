{
  "cells": [
    {
      "cell_type": "markdown",
      "metadata": {
        "id": "view-in-github",
        "colab_type": "text"
      },
      "source": [
        "<a href=\"https://colab.research.google.com/github/yun2590/homework2025/blob/main/%ED%8C%8C%EC%9D%B4%EC%8D%AC%20Unit73.ipynb\" target=\"_parent\"><img src=\"https://colab.research.google.com/assets/colab-badge.svg\" alt=\"Open In Colab\"/></a>"
      ]
    },
    {
      "cell_type": "code",
      "source": [
        "while True:\n",
        "  ch = input('문자 1개를 입력하세요[끝내려면 엔터를 치세요]:')\n",
        "  if len(ch) == 0:\n",
        "    break\n",
        "  ch =ch[0]\n",
        "  code = ord(ch)\n",
        "  print(f'--> 문자 \"{ch}\"의 코드값: {hex(code)}')"
      ],
      "metadata": {
        "colab": {
          "base_uri": "https://localhost:8080/"
        },
        "id": "aTxTJsGk6-iF",
        "outputId": "7284e83a-72ba-434f-da3d-5ee74b93177b"
      },
      "execution_count": 14,
      "outputs": [
        {
          "name": "stdout",
          "output_type": "stream",
          "text": [
            "문자 1개를 입력하세요[끝내려면 엔터를 치세요]:A\n",
            "--> 문자 \"A\"의 코드값: 0x41\n",
            "문자 1개를 입력하세요[끝내려면 엔터를 치세요]:가\n",
            "--> 문자 \"가\"의 코드값: 0xac00\n",
            "문자 1개를 입력하세요[끝내려면 엔터를 치세요]:@\n",
            "--> 문자 \"@\"의 코드값: 0x40\n",
            "문자 1개를 입력하세요[끝내려면 엔터를 치세요]:\n"
          ]
        }
      ]
    }
  ],
  "metadata": {
    "colab": {
      "name": "Colab 시작하기",
      "toc_visible": true,
      "provenance": [],
      "include_colab_link": true
    },
    "kernelspec": {
      "display_name": "Python 3",
      "name": "python3"
    }
  },
  "nbformat": 4,
  "nbformat_minor": 0
}