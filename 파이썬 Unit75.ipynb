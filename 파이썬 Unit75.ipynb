{
  "cells": [
    {
      "cell_type": "markdown",
      "metadata": {
        "id": "view-in-github",
        "colab_type": "text"
      },
      "source": [
        "<a href=\"https://colab.research.google.com/github/yun2590/homework2025/blob/main/%ED%8C%8C%EC%9D%B4%EC%8D%AC%20Unit75.ipynb\" target=\"_parent\"><img src=\"https://colab.research.google.com/assets/colab-badge.svg\" alt=\"Open In Colab\"/></a>"
      ]
    },
    {
      "cell_type": "code",
      "source": [
        "print('파이썬은 자바보다 쉽습니다.\\n그래서 나는 파이썬을 사랑합니다')"
      ],
      "metadata": {
        "id": "XFFG2T2O_Oo8",
        "outputId": "16064f65-4735-435c-e63d-ea5b044d899f",
        "colab": {
          "base_uri": "https://localhost:8080/"
        }
      },
      "execution_count": 16,
      "outputs": [
        {
          "output_type": "stream",
          "name": "stdout",
          "text": [
            "파이썬은 자바보다 쉽습니다.\n",
            "그래서 나는 파이썬을 사랑합니다\n"
          ]
        }
      ]
    },
    {
      "cell_type": "code",
      "source": [
        "text = '파이썬은 자바보다 쉽습니다.\\\n",
        "그래서 나는 파이썬을 사랑합니다'\n",
        "print(text)"
      ],
      "metadata": {
        "id": "v0tQqdVi_cyh",
        "outputId": "63d2c4bc-8d9a-4acf-e99b-2389454de33b",
        "colab": {
          "base_uri": "https://localhost:8080/"
        }
      },
      "execution_count": 20,
      "outputs": [
        {
          "output_type": "stream",
          "name": "stdout",
          "text": [
            "파이썬은 자바보다 쉽습니다.그래서 나는 파이썬을 사랑합니다\n"
          ]
        }
      ]
    },
    {
      "cell_type": "code",
      "source": [
        "print('이스케이프 문자 \"\\\\t\"는 탭을 의미합니다.')"
      ],
      "metadata": {
        "id": "K3Nk9C8V_1C_",
        "outputId": "875e083b-39d1-4003-e26d-6284acd0f0d5",
        "colab": {
          "base_uri": "https://localhost:8080/"
        }
      },
      "execution_count": 21,
      "outputs": [
        {
          "output_type": "stream",
          "name": "stdout",
          "text": [
            "이스케이프 문자 \"\\t\"는 탭을 의미합니다.\n"
          ]
        }
      ]
    },
    {
      "cell_type": "code",
      "source": [
        "print('\\'파이썬\\'은 뱀의 한 종류입니다.')"
      ],
      "metadata": {
        "id": "wNsVQWM1_-Sd",
        "outputId": "278832f3-b1a5-4a5f-8b39-85bb398c267c",
        "colab": {
          "base_uri": "https://localhost:8080/"
        }
      },
      "execution_count": 22,
      "outputs": [
        {
          "output_type": "stream",
          "name": "stdout",
          "text": [
            "'파이썬'은 뱀의 한 종류입니다.\n"
          ]
        }
      ]
    }
  ],
  "metadata": {
    "colab": {
      "name": "Colab 시작하기",
      "toc_visible": true,
      "provenance": [],
      "include_colab_link": true
    },
    "kernelspec": {
      "display_name": "Python 3",
      "name": "python3"
    }
  },
  "nbformat": 4,
  "nbformat_minor": 0
}