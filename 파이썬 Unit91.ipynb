{
  "cells": [
    {
      "cell_type": "markdown",
      "metadata": {
        "id": "view-in-github",
        "colab_type": "text"
      },
      "source": [
        "<a href=\"https://colab.research.google.com/github/yun2590/homework2025/blob/main/%ED%8C%8C%EC%9D%B4%EC%8D%AC%20Unit91.ipynb\" target=\"_parent\"><img src=\"https://colab.research.google.com/assets/colab-badge.svg\" alt=\"Open In Colab\"/></a>"
      ]
    },
    {
      "cell_type": "code",
      "source": [
        "strData = 'python'\n",
        "byteData = strData.encode()\n",
        "print(byteData)"
      ],
      "metadata": {
        "id": "ldwouZERbcbc",
        "outputId": "c47eb7af-56eb-44c9-ac94-7db1d717845e",
        "colab": {
          "base_uri": "https://localhost:8080/"
        }
      },
      "execution_count": 21,
      "outputs": [
        {
          "output_type": "stream",
          "name": "stdout",
          "text": [
            "b'python'\n"
          ]
        }
      ]
    },
    {
      "cell_type": "code",
      "source": [
        "for idx, c in enumerate(strData):\n",
        "  print(f'strData[{idx}] = {c}')"
      ],
      "metadata": {
        "id": "BcR9Jy9PbrKg",
        "outputId": "adde9134-518b-4384-a5e5-981129fdb3fb",
        "colab": {
          "base_uri": "https://localhost:8080/"
        }
      },
      "execution_count": 22,
      "outputs": [
        {
          "output_type": "stream",
          "name": "stdout",
          "text": [
            "strData[0] = p\n",
            "strData[1] = y\n",
            "strData[2] = t\n",
            "strData[3] = h\n",
            "strData[4] = o\n",
            "strData[5] = n\n"
          ]
        }
      ]
    },
    {
      "cell_type": "code",
      "source": [
        "for idx, c in enumerate(byteData):\n",
        "  print(f'byteData[{idx}] = {c}, {hex(c)}')"
      ],
      "metadata": {
        "id": "B9A6Uu8Mb3AA",
        "outputId": "91f3a645-3c08-49fd-f9f1-010934c09140",
        "colab": {
          "base_uri": "https://localhost:8080/"
        }
      },
      "execution_count": 25,
      "outputs": [
        {
          "output_type": "stream",
          "name": "stdout",
          "text": [
            "byteData[0] = 112, 0x70\n",
            "byteData[1] = 121, 0x79\n",
            "byteData[2] = 116, 0x74\n",
            "byteData[3] = 104, 0x68\n",
            "byteData[4] = 111, 0x6f\n",
            "byteData[5] = 110, 0x6e\n"
          ]
        }
      ]
    },
    {
      "cell_type": "code",
      "source": [
        "strData = '파이썬'\n",
        "byteData = strData.encode()\n",
        "print(byteData)"
      ],
      "metadata": {
        "id": "-Qi-Dqb-cD0r",
        "outputId": "638e886f-e8d2-445c-8da7-cf896095dbb1",
        "colab": {
          "base_uri": "https://localhost:8080/"
        }
      },
      "execution_count": 26,
      "outputs": [
        {
          "output_type": "stream",
          "name": "stdout",
          "text": [
            "b'\\xed\\x8c\\x8c\\xec\\x9d\\xb4\\xec\\x8d\\xac'\n"
          ]
        }
      ]
    },
    {
      "cell_type": "code",
      "source": [
        "strData = '파이썬'\n",
        "byteData = strData.encode('cp949')\n",
        "print(byteData)"
      ],
      "metadata": {
        "id": "4WTlDhHacM0X",
        "outputId": "ae3895ca-318d-4071-d534-79ee74b36c3c",
        "colab": {
          "base_uri": "https://localhost:8080/"
        }
      },
      "execution_count": 27,
      "outputs": [
        {
          "output_type": "stream",
          "name": "stdout",
          "text": [
            "b'\\xc6\\xc4\\xc0\\xcc\\xbd\\xe3'\n"
          ]
        }
      ]
    }
  ],
  "metadata": {
    "colab": {
      "name": "Colab 시작하기",
      "toc_visible": true,
      "provenance": [],
      "include_colab_link": true
    },
    "kernelspec": {
      "display_name": "Python 3",
      "name": "python3"
    }
  },
  "nbformat": 4,
  "nbformat_minor": 0
}