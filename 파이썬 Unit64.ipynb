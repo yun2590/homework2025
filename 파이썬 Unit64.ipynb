{
  "cells": [
    {
      "cell_type": "markdown",
      "metadata": {
        "id": "view-in-github",
        "colab_type": "text"
      },
      "source": [
        "<a href=\"https://colab.research.google.com/github/yun2590/homework2025/blob/main/%ED%8C%8C%EC%9D%B4%EC%8D%AC%20Unit64.ipynb\" target=\"_parent\"><img src=\"https://colab.research.google.com/assets/colab-badge.svg\" alt=\"Open In Colab\"/></a>"
      ]
    },
    {
      "cell_type": "code",
      "source": [
        "numbers=[14,5,18,45,10,43]\n",
        "for _ in range(len(numbers)):\n",
        "  ret=numbers.pop()\n",
        "  print(f'pop()으로 추출된 값: {ret}, numbers = {numbers}')"
      ],
      "metadata": {
        "id": "dTudNZzyGv15",
        "outputId": "2deda505-37ce-47ee-ea36-5ef2467cead7",
        "colab": {
          "base_uri": "https://localhost:8080/"
        }
      },
      "execution_count": 2,
      "outputs": [
        {
          "output_type": "stream",
          "name": "stdout",
          "text": [
            "pop()으로 추출된 값: 43, numbers = [14, 5, 18, 45, 10]\n",
            "pop()으로 추출된 값: 10, numbers = [14, 5, 18, 45]\n",
            "pop()으로 추출된 값: 45, numbers = [14, 5, 18]\n",
            "pop()으로 추출된 값: 18, numbers = [14, 5]\n",
            "pop()으로 추출된 값: 5, numbers = [14]\n",
            "pop()으로 추출된 값: 14, numbers = []\n"
          ]
        }
      ]
    },
    {
      "cell_type": "code",
      "source": [
        "numbers=[14,5,18,45,10,43]\n",
        "ret=numbers.pop(3)\n",
        "print(f'pop()으로 추출된 값: {ret}, numbers = {numbers}')"
      ],
      "metadata": {
        "id": "Tv761sLlHWeY",
        "outputId": "a1d7d359-50d2-4a2e-f739-f045c8f30520",
        "colab": {
          "base_uri": "https://localhost:8080/"
        }
      },
      "execution_count": 4,
      "outputs": [
        {
          "output_type": "stream",
          "name": "stdout",
          "text": [
            "pop()으로 추출된 값: 45, numbers = [14, 5, 18, 10, 43]\n"
          ]
        }
      ]
    }
  ],
  "metadata": {
    "colab": {
      "name": "Colab 시작하기",
      "toc_visible": true,
      "provenance": [],
      "include_colab_link": true
    },
    "kernelspec": {
      "display_name": "Python 3",
      "name": "python3"
    }
  },
  "nbformat": 4,
  "nbformat_minor": 0
}