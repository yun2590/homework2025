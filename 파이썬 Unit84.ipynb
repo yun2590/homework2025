{
  "cells": [
    {
      "cell_type": "markdown",
      "metadata": {
        "id": "view-in-github",
        "colab_type": "text"
      },
      "source": [
        "<a href=\"https://colab.research.google.com/github/yun2590/homework2025/blob/main/%ED%8C%8C%EC%9D%B4%EC%8D%AC%20Unit84.ipynb\" target=\"_parent\"><img src=\"https://colab.research.google.com/assets/colab-badge.svg\" alt=\"Open In Colab\"/></a>"
      ]
    },
    {
      "cell_type": "code",
      "source": [
        "text = '문자열: 파이썬에서 시퀀스 자료 중 하나임'\n",
        "ret = text.replace('문자열','텍스트')\n",
        "print(ret)"
      ],
      "metadata": {
        "id": "yigIbFHYXqB1",
        "outputId": "64be9760-b1ec-418a-8179-38a80979aa86",
        "colab": {
          "base_uri": "https://localhost:8080/"
        }
      },
      "execution_count": 2,
      "outputs": [
        {
          "output_type": "stream",
          "name": "stdout",
          "text": [
            "텍스트: 파이썬에서 시퀀스 자료 중 하나임\n"
          ]
        }
      ]
    },
    {
      "cell_type": "code",
      "source": [
        "text = '매일 많은 일들이 일어납니다'\n",
        "ret = text.replace('일','사건')\n",
        "print(ret)"
      ],
      "metadata": {
        "id": "UtQaXsMXX4x7",
        "outputId": "80da81ad-0c74-499d-bde2-a0bb42db72c7",
        "colab": {
          "base_uri": "https://localhost:8080/"
        }
      },
      "execution_count": 3,
      "outputs": [
        {
          "output_type": "stream",
          "name": "stdout",
          "text": [
            "매사건 많은 사건들이 사건어납니다\n"
          ]
        }
      ]
    }
  ],
  "metadata": {
    "colab": {
      "name": "Colab 시작하기",
      "toc_visible": true,
      "provenance": [],
      "include_colab_link": true
    },
    "kernelspec": {
      "display_name": "Python 3",
      "name": "python3"
    }
  },
  "nbformat": 4,
  "nbformat_minor": 0
}