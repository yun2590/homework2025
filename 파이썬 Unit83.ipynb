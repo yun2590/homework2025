{
  "cells": [
    {
      "cell_type": "markdown",
      "metadata": {
        "id": "view-in-github",
        "colab_type": "text"
      },
      "source": [
        "<a href=\"https://colab.research.google.com/github/yun2590/homework2025/blob/main/%ED%8C%8C%EC%9D%B4%EC%8D%AC%20Unit83.ipynb\" target=\"_parent\"><img src=\"https://colab.research.google.com/assets/colab-badge.svg\" alt=\"Open In Colab\"/></a>"
      ]
    },
    {
      "cell_type": "code",
      "source": [
        "text = '  이 문장의 양쪽에는 공백이 있습니다.  '\n",
        "print(f'<{text.strip()}>')\n",
        "print(f'<{text.lstrip()}>')\n",
        "print(f'<{text.rstrip()}>')"
      ],
      "metadata": {
        "colab": {
          "base_uri": "https://localhost:8080/"
        },
        "id": "gwC4WhC_QY4h",
        "outputId": "9a7f373e-2f21-43e9-c132-798390ccee69"
      },
      "execution_count": 35,
      "outputs": [
        {
          "output_type": "stream",
          "name": "stdout",
          "text": [
            "<이 문장의 양쪽에는 공백이 있습니다.>\n",
            "<이 문장의 양쪽에는 공백이 있습니다.  >\n",
            "<  이 문장의 양쪽에는 공백이 있습니다.>\n"
          ]
        }
      ]
    },
    {
      "cell_type": "code",
      "source": [
        "url = 'www.python.com'\n",
        "print(url.strip('cmow.'))"
      ],
      "metadata": {
        "id": "oyFtjBRVSbXV",
        "outputId": "82d7bc52-030a-4256-9122-20cbab73151f",
        "colab": {
          "base_uri": "https://localhost:8080/"
        }
      },
      "execution_count": 36,
      "outputs": [
        {
          "output_type": "stream",
          "name": "stdout",
          "text": [
            "python\n"
          ]
        }
      ]
    },
    {
      "cell_type": "code",
      "source": [
        "print(url.lstrip('cmow.'))\n",
        "print(url.rstrip('cmow.'))"
      ],
      "metadata": {
        "id": "zIUoZAnMSj22",
        "outputId": "c57e7321-cf70-4191-fa43-2a2cbf007d83",
        "colab": {
          "base_uri": "https://localhost:8080/"
        }
      },
      "execution_count": 37,
      "outputs": [
        {
          "output_type": "stream",
          "name": "stdout",
          "text": [
            "python.com\n",
            "www.python\n"
          ]
        }
      ]
    }
  ],
  "metadata": {
    "colab": {
      "name": "Colab 시작하기",
      "toc_visible": true,
      "provenance": [],
      "include_colab_link": true
    },
    "kernelspec": {
      "display_name": "Python 3",
      "name": "python3"
    }
  },
  "nbformat": 4,
  "nbformat_minor": 0
}