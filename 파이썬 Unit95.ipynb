{
  "cells": [
    {
      "cell_type": "markdown",
      "metadata": {
        "id": "view-in-github",
        "colab_type": "text"
      },
      "source": [
        "<a href=\"https://colab.research.google.com/github/yun2590/homework2025/blob/main/%ED%8C%8C%EC%9D%B4%EC%8D%AC%20Unit95.ipynb\" target=\"_parent\"><img src=\"https://colab.research.google.com/assets/colab-badge.svg\" alt=\"Open In Colab\"/></a>"
      ]
    },
    {
      "cell_type": "code",
      "source": [
        "bytesData = b'\\xec\\x82\\xac\\xeb\\x9e\\x91\\xed\\x95\\xb4\\xec\\x9a\\x94'\n",
        "strData = bytesData.decode()\n",
        "print(strData)"
      ],
      "metadata": {
        "id": "mOYLJFYropdi",
        "outputId": "981c2c4e-cbc0-495c-d415-06c9d76d81b9",
        "colab": {
          "base_uri": "https://localhost:8080/"
        }
      },
      "execution_count": 4,
      "outputs": [
        {
          "output_type": "stream",
          "name": "stdout",
          "text": [
            "사랑해요\n"
          ]
        }
      ]
    },
    {
      "cell_type": "code",
      "source": [
        "bytesData = b'\\xbb\\xe7\\xb6\\xfb\\xc7\\xd8\\xbf\\xe4'\n",
        "strData = bytesData.decode()\n",
        "print(strData)"
      ],
      "metadata": {
        "id": "Thl5hyuRpAnc",
        "outputId": "3c2def26-6ae9-4048-c482-c93a8817e156",
        "colab": {
          "base_uri": "https://localhost:8080/",
          "height": 184
        }
      },
      "execution_count": 5,
      "outputs": [
        {
          "output_type": "error",
          "ename": "UnicodeDecodeError",
          "evalue": "'utf-8' codec can't decode byte 0xbb in position 0: invalid start byte",
          "traceback": [
            "\u001b[0;31m---------------------------------------------------------------------------\u001b[0m",
            "\u001b[0;31mUnicodeDecodeError\u001b[0m                        Traceback (most recent call last)",
            "\u001b[0;32m/tmp/ipython-input-3134233956.py\u001b[0m in \u001b[0;36m<cell line: 0>\u001b[0;34m()\u001b[0m\n\u001b[1;32m      1\u001b[0m \u001b[0mbytesData\u001b[0m \u001b[0;34m=\u001b[0m \u001b[0;34mb'\\xbb\\xe7\\xb6\\xfb\\xc7\\xd8\\xbf\\xe4'\u001b[0m\u001b[0;34m\u001b[0m\u001b[0;34m\u001b[0m\u001b[0m\n\u001b[0;32m----> 2\u001b[0;31m \u001b[0mstrData\u001b[0m \u001b[0;34m=\u001b[0m \u001b[0mbytesData\u001b[0m\u001b[0;34m.\u001b[0m\u001b[0mdecode\u001b[0m\u001b[0;34m(\u001b[0m\u001b[0;34m)\u001b[0m\u001b[0;34m\u001b[0m\u001b[0;34m\u001b[0m\u001b[0m\n\u001b[0m\u001b[1;32m      3\u001b[0m \u001b[0mprint\u001b[0m\u001b[0;34m(\u001b[0m\u001b[0mstrData\u001b[0m\u001b[0;34m)\u001b[0m\u001b[0;34m\u001b[0m\u001b[0;34m\u001b[0m\u001b[0m\n",
            "\u001b[0;31mUnicodeDecodeError\u001b[0m: 'utf-8' codec can't decode byte 0xbb in position 0: invalid start byte"
          ]
        }
      ]
    },
    {
      "cell_type": "code",
      "source": [
        "bytesData = b'\\xbb\\xe7\\xb6\\xfb\\xc7\\xd8\\xbf\\xe4'\n",
        "strData = bytesData.decode('cp949')\n",
        "print(strData)"
      ],
      "metadata": {
        "id": "eo-76gJOpMsD",
        "outputId": "42efeaf9-807c-4d72-d874-9dbee739b8d0",
        "colab": {
          "base_uri": "https://localhost:8080/"
        }
      },
      "execution_count": 6,
      "outputs": [
        {
          "output_type": "stream",
          "name": "stdout",
          "text": [
            "사랑해요\n"
          ]
        }
      ]
    }
  ],
  "metadata": {
    "colab": {
      "name": "Colab 시작하기",
      "toc_visible": true,
      "provenance": [],
      "include_colab_link": true
    },
    "kernelspec": {
      "display_name": "Python 3",
      "name": "python3"
    }
  },
  "nbformat": 4,
  "nbformat_minor": 0
}