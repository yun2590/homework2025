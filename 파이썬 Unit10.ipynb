{
  "cells": [
    {
      "cell_type": "markdown",
      "metadata": {
        "id": "view-in-github",
        "colab_type": "text"
      },
      "source": [
        "<a href=\"https://colab.research.google.com/github/yun2590/homework2025/blob/main/%ED%8C%8C%EC%9D%B4%EC%8D%AC%20Unit10.ipynb\" target=\"_parent\"><img src=\"https://colab.research.google.com/assets/colab-badge.svg\" alt=\"Open In Colab\"/></a>"
      ]
    },
    {
      "cell_type": "code",
      "source": [
        "name = '홍길동'\n",
        "age = 17\n",
        "weight = 70.7\n",
        "is_badman = False"
      ],
      "metadata": {
        "id": "QlvAD63xfrkO"
      },
      "execution_count": 2,
      "outputs": []
    },
    {
      "cell_type": "code",
      "source": [
        "name: str = '홍길동'\n",
        "age: int = 17\n",
        "weight: float = 70.7\n",
        "is_badman: bool = False"
      ],
      "metadata": {
        "id": "bn1lmutmgC0M"
      },
      "execution_count": 3,
      "outputs": []
    },
    {
      "cell_type": "code",
      "source": [
        "booklist:list[str] = ['삼국지', '수호지', '초한지']"
      ],
      "metadata": {
        "id": "P518ae_GgUF0"
      },
      "execution_count": 4,
      "outputs": []
    },
    {
      "cell_type": "code",
      "source": [
        "island: tuple[str, float, float] = ('독도', 131.52, 37.14)"
      ],
      "metadata": {
        "id": "nArPMqQ8gfJk"
      },
      "execution_count": 5,
      "outputs": []
    },
    {
      "cell_type": "code",
      "source": [
        "top4_familyname: dict[str, int] = {'김씨':123456, '나씨':345811, '박씨':963123, '이씨':865909}"
      ],
      "metadata": {
        "id": "EOHryO5ugrvb"
      },
      "execution_count": 6,
      "outputs": []
    },
    {
      "cell_type": "code",
      "source": [
        "fruits: set[str] = {'사과', '배', '수박', '참외', '딸기'}"
      ],
      "metadata": {
        "id": "-6rFGKsThAOC"
      },
      "execution_count": 7,
      "outputs": []
    },
    {
      "cell_type": "code",
      "source": [
        "print(__annotations__)"
      ],
      "metadata": {
        "id": "zDx8OwsPhK_6",
        "outputId": "964fcbfc-df91-4896-b93a-967009183a5f",
        "colab": {
          "base_uri": "https://localhost:8080/"
        }
      },
      "execution_count": 8,
      "outputs": [
        {
          "output_type": "stream",
          "name": "stdout",
          "text": [
            "{'name': <class 'str'>, 'age': <class 'int'>, 'weight': <class 'float'>, 'is_badman': <class 'bool'>, 'booklist': list[str], 'island': tuple[str, float, float], 'top4_familyname': dict[str, int], 'fruits': set[str]}\n"
          ]
        }
      ]
    },
    {
      "cell_type": "code",
      "source": [
        "fruits: set[str] = {'사과', '배', '수박', '참외', '딸기'}\n",
        "fruits = {1, 2, 3, 4, 5}\n",
        "print(fruits)"
      ],
      "metadata": {
        "id": "SR3TQIuPhRjj",
        "outputId": "d256a1a6-cae4-4efc-8c3f-1a146c1015d0",
        "colab": {
          "base_uri": "https://localhost:8080/"
        }
      },
      "execution_count": 9,
      "outputs": [
        {
          "output_type": "stream",
          "name": "stdout",
          "text": [
            "{1, 2, 3, 4, 5}\n"
          ]
        }
      ]
    }
  ],
  "metadata": {
    "colab": {
      "name": "Colab 시작하기",
      "toc_visible": true,
      "provenance": [],
      "include_colab_link": true
    },
    "kernelspec": {
      "display_name": "Python 3",
      "name": "python3"
    }
  },
  "nbformat": 4,
  "nbformat_minor": 0
}