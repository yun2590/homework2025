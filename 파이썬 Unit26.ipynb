{
  "cells": [
    {
      "cell_type": "markdown",
      "metadata": {
        "id": "view-in-github",
        "colab_type": "text"
      },
      "source": [
        "<a href=\"https://colab.research.google.com/github/yun2590/homework2025/blob/main/%ED%8C%8C%EC%9D%B4%EC%8D%AC%20Unit26.ipynb\" target=\"_parent\"><img src=\"https://colab.research.google.com/assets/colab-badge.svg\" alt=\"Open In Colab\"/></a>"
      ]
    },
    {
      "cell_type": "code",
      "source": [
        "intData1 = 20    #10진수 정수로 선언"
      ],
      "metadata": {
        "id": "l8xidlit3TzK"
      },
      "execution_count": 2,
      "outputs": []
    },
    {
      "cell_type": "code",
      "source": [
        "octData = 0o24   #정수 20을 8진수로 선언. 0o는 8진수임을 나타냄\n",
        "hexData = 0x14   #정수 20을 16진수로 선언. 0x는 16진수임을 나타냄"
      ],
      "metadata": {
        "id": "3sktmTcJ3neK"
      },
      "execution_count": 3,
      "outputs": []
    },
    {
      "cell_type": "code",
      "source": [
        "fData1 = 1.0\n",
        "fData2 = 2."
      ],
      "metadata": {
        "id": "erNUVVcP34Zs"
      },
      "execution_count": 4,
      "outputs": []
    },
    {
      "cell_type": "code",
      "source": [
        "intData1 = 5\n",
        "intData2 = 10\n",
        "ret = intData2 / intData1\n",
        "print(type(ret))"
      ],
      "metadata": {
        "id": "ct2iepHc3-iU",
        "outputId": "f7f16578-637a-4517-9f6c-3853bf54c0bd",
        "colab": {
          "base_uri": "https://localhost:8080/"
        }
      },
      "execution_count": 5,
      "outputs": [
        {
          "output_type": "stream",
          "name": "stdout",
          "text": [
            "<class 'float'>\n"
          ]
        }
      ]
    },
    {
      "cell_type": "code",
      "source": [
        "numData = 2e2    # 200\n",
        "print(type(numData))"
      ],
      "metadata": {
        "id": "vDmD7n674KKT",
        "outputId": "2cf3c7cf-e91b-4c90-cbe6-75e4d27fb0be",
        "colab": {
          "base_uri": "https://localhost:8080/"
        }
      },
      "execution_count": 6,
      "outputs": [
        {
          "output_type": "stream",
          "name": "stdout",
          "text": [
            "<class 'float'>\n"
          ]
        }
      ]
    }
  ],
  "metadata": {
    "colab": {
      "name": "Colab 시작하기",
      "toc_visible": true,
      "provenance": [],
      "include_colab_link": true
    },
    "kernelspec": {
      "display_name": "Python 3",
      "name": "python3"
    }
  },
  "nbformat": 4,
  "nbformat_minor": 0
}