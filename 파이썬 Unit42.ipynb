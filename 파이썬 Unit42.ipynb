{
  "cells": [
    {
      "cell_type": "markdown",
      "metadata": {
        "id": "view-in-github",
        "colab_type": "text"
      },
      "source": [
        "<a href=\"https://colab.research.google.com/github/yun2590/homework2025/blob/main/%ED%8C%8C%EC%9D%B4%EC%8D%AC%20Unit42.ipynb\" target=\"_parent\"><img src=\"https://colab.research.google.com/assets/colab-badge.svg\" alt=\"Open In Colab\"/></a>"
      ]
    },
    {
      "cell_type": "code",
      "source": [
        "zip(iterable1, iterable2, ...)"
      ],
      "metadata": {
        "id": "tpZdLhP2yaJ0"
      },
      "execution_count": null,
      "outputs": []
    },
    {
      "cell_type": "code",
      "source": [
        "male = ['슈퍼맨','심봉사','로미오','이몽룡','마루치']\n",
        "female = ['원더우먼','뺑덕어멈','줄리엣','성춘향','아라치']\n",
        "couples = zip(male, female)\n",
        "for couple in couples:\n",
        "  print(couple)"
      ],
      "metadata": {
        "id": "NWcWrOrAyh74",
        "outputId": "71748baa-3e41-4041-8757-113a3d10ad0c",
        "colab": {
          "base_uri": "https://localhost:8080/"
        }
      },
      "execution_count": 3,
      "outputs": [
        {
          "output_type": "stream",
          "name": "stdout",
          "text": [
            "('슈퍼맨', '원더우먼')\n",
            "('심봉사', '뺑덕어멈')\n",
            "('로미오', '줄리엣')\n",
            "('이몽룡', '성춘향')\n",
            "('마루치', '아라치')\n"
          ]
        }
      ]
    },
    {
      "cell_type": "code",
      "source": [
        "male = ['슈퍼맨','심봉사','로미오']\n",
        "female = ['원더우먼','뺑덕어멈','줄리엣','성춘향','아라치']\n",
        "for couple in zip(male, female):\n",
        "  print(couple)"
      ],
      "metadata": {
        "id": "9veu1YUEzDn3",
        "outputId": "32957bf2-caa1-4df6-d92f-7b1f11aebc9e",
        "colab": {
          "base_uri": "https://localhost:8080/"
        }
      },
      "execution_count": 4,
      "outputs": [
        {
          "output_type": "stream",
          "name": "stdout",
          "text": [
            "('슈퍼맨', '원더우먼')\n",
            "('심봉사', '뺑덕어멈')\n",
            "('로미오', '줄리엣')\n"
          ]
        }
      ]
    },
    {
      "cell_type": "code",
      "source": [
        "male = ['슈퍼맨','심봉사','로미오']\n",
        "female = ['원더우먼','뺑덕어멈','줄리엣','성춘향','아라치']\n",
        "for couple in zip(male, female, strict=True):\n",
        "  print(couple)"
      ],
      "metadata": {
        "id": "tFX-p29czUge",
        "outputId": "6b6d19b2-89cc-4047-9053-055319522e53",
        "colab": {
          "base_uri": "https://localhost:8080/",
          "height": 257
        }
      },
      "execution_count": 5,
      "outputs": [
        {
          "output_type": "stream",
          "name": "stdout",
          "text": [
            "('슈퍼맨', '원더우먼')\n",
            "('심봉사', '뺑덕어멈')\n",
            "('로미오', '줄리엣')\n"
          ]
        },
        {
          "output_type": "error",
          "ename": "ValueError",
          "evalue": "zip() argument 2 is longer than argument 1",
          "traceback": [
            "\u001b[0;31m---------------------------------------------------------------------------\u001b[0m",
            "\u001b[0;31mValueError\u001b[0m                                Traceback (most recent call last)",
            "\u001b[0;32m/tmp/ipython-input-538232260.py\u001b[0m in \u001b[0;36m<cell line: 0>\u001b[0;34m()\u001b[0m\n\u001b[1;32m      1\u001b[0m \u001b[0mmale\u001b[0m \u001b[0;34m=\u001b[0m \u001b[0;34m[\u001b[0m\u001b[0;34m'슈퍼맨'\u001b[0m\u001b[0;34m,\u001b[0m\u001b[0;34m'심봉사'\u001b[0m\u001b[0;34m,\u001b[0m\u001b[0;34m'로미오'\u001b[0m\u001b[0;34m]\u001b[0m\u001b[0;34m\u001b[0m\u001b[0;34m\u001b[0m\u001b[0m\n\u001b[1;32m      2\u001b[0m \u001b[0mfemale\u001b[0m \u001b[0;34m=\u001b[0m \u001b[0;34m[\u001b[0m\u001b[0;34m'원더우먼'\u001b[0m\u001b[0;34m,\u001b[0m\u001b[0;34m'뺑덕어멈'\u001b[0m\u001b[0;34m,\u001b[0m\u001b[0;34m'줄리엣'\u001b[0m\u001b[0;34m,\u001b[0m\u001b[0;34m'성춘향'\u001b[0m\u001b[0;34m,\u001b[0m\u001b[0;34m'아라치'\u001b[0m\u001b[0;34m]\u001b[0m\u001b[0;34m\u001b[0m\u001b[0;34m\u001b[0m\u001b[0m\n\u001b[0;32m----> 3\u001b[0;31m \u001b[0;32mfor\u001b[0m \u001b[0mcouple\u001b[0m \u001b[0;32min\u001b[0m \u001b[0mzip\u001b[0m\u001b[0;34m(\u001b[0m\u001b[0mmale\u001b[0m\u001b[0;34m,\u001b[0m \u001b[0mfemale\u001b[0m\u001b[0;34m,\u001b[0m \u001b[0mstrict\u001b[0m\u001b[0;34m=\u001b[0m\u001b[0;32mTrue\u001b[0m\u001b[0;34m)\u001b[0m\u001b[0;34m:\u001b[0m\u001b[0;34m\u001b[0m\u001b[0;34m\u001b[0m\u001b[0m\n\u001b[0m\u001b[1;32m      4\u001b[0m   \u001b[0mprint\u001b[0m\u001b[0;34m(\u001b[0m\u001b[0mcouple\u001b[0m\u001b[0;34m)\u001b[0m\u001b[0;34m\u001b[0m\u001b[0;34m\u001b[0m\u001b[0m\n",
            "\u001b[0;31mValueError\u001b[0m: zip() argument 2 is longer than argument 1"
          ]
        }
      ]
    }
  ],
  "metadata": {
    "colab": {
      "name": "Colab 시작하기",
      "toc_visible": true,
      "provenance": [],
      "include_colab_link": true
    },
    "kernelspec": {
      "display_name": "Python 3",
      "name": "python3"
    }
  },
  "nbformat": 4,
  "nbformat_minor": 0
}