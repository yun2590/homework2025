{
  "cells": [
    {
      "cell_type": "markdown",
      "metadata": {
        "id": "view-in-github",
        "colab_type": "text"
      },
      "source": [
        "<a href=\"https://colab.research.google.com/github/yun2590/homework2025/blob/main/%ED%8C%8C%EC%9D%B4%EC%8D%AC%20Unit33.ipynb\" target=\"_parent\"><img src=\"https://colab.research.google.com/assets/colab-badge.svg\" alt=\"Open In Colab\"/></a>"
      ]
    },
    {
      "cell_type": "code",
      "source": [
        "b1 = bin(97)\n",
        "b2 = bin(98)\n",
        "print(b1)\n",
        "print(b2)"
      ],
      "metadata": {
        "id": "aYiYIpyt-dJr",
        "outputId": "baedf92c-6a55-4702-a22d-18f42d69cd0e",
        "colab": {
          "base_uri": "https://localhost:8080/"
        }
      },
      "execution_count": 4,
      "outputs": [
        {
          "output_type": "stream",
          "name": "stdout",
          "text": [
            "0b1100001\n",
            "0b1100010\n"
          ]
        }
      ]
    },
    {
      "cell_type": "code",
      "source": [
        "print(b1 +b2)"
      ],
      "metadata": {
        "id": "PqUg8-MP-lKO",
        "outputId": "4736dbed-1e6f-4271-a435-2d5a5bb0425d",
        "colab": {
          "base_uri": "https://localhost:8080/"
        }
      },
      "execution_count": 5,
      "outputs": [
        {
          "output_type": "stream",
          "name": "stdout",
          "text": [
            "0b11000010b1100010\n"
          ]
        }
      ]
    },
    {
      "cell_type": "code",
      "source": [
        "binStr1 = '0b1011'\n",
        "binStr2 = '0b1001'\n",
        "int1 = int(binStr1, base=2)\n",
        "int2 = int(binStr2, base=2)\n",
        "binAnswer = bin(int1 + int2)\n",
        "print(f'{binStr1} + {binStr2} = {binAnswer}')"
      ],
      "metadata": {
        "id": "BWhLmfdo-o_e",
        "outputId": "8ff1343f-38b0-4f1d-adb5-29642ff591cf",
        "colab": {
          "base_uri": "https://localhost:8080/"
        }
      },
      "execution_count": 6,
      "outputs": [
        {
          "output_type": "stream",
          "name": "stdout",
          "text": [
            "0b1011 + 0b1001 = 0b10100\n"
          ]
        }
      ]
    }
  ],
  "metadata": {
    "colab": {
      "name": "Colab 시작하기",
      "toc_visible": true,
      "provenance": [],
      "include_colab_link": true
    },
    "kernelspec": {
      "display_name": "Python 3",
      "name": "python3"
    }
  },
  "nbformat": 4,
  "nbformat_minor": 0
}