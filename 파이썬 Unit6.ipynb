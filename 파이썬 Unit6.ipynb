{
  "cells": [
    {
      "cell_type": "markdown",
      "metadata": {
        "id": "view-in-github",
        "colab_type": "text"
      },
      "source": [
        "<a href=\"https://colab.research.google.com/github/yun2590/homework2025/blob/main/%ED%8C%8C%EC%9D%B4%EC%8D%AC%20Unit6.ipynb\" target=\"_parent\"><img src=\"https://colab.research.google.com/assets/colab-badge.svg\" alt=\"Open In Colab\"/></a>"
      ]
    },
    {
      "cell_type": "code",
      "source": [
        "intData=15           #정수 데이터\n",
        "floatData=2.5        #실수 데이터\n",
        "complexData=1+1j     #복소수 데이터"
      ],
      "metadata": {
        "id": "TNqyMagRTyZu"
      },
      "execution_count": 16,
      "outputs": []
    },
    {
      "cell_type": "code",
      "source": [
        "isTrue=True\n",
        "isFalse=False"
      ],
      "metadata": {
        "id": "zPXxAvYmUHzv"
      },
      "execution_count": 17,
      "outputs": []
    },
    {
      "cell_type": "code",
      "source": [
        "setData = {1, 2, 3, 4, 5}"
      ],
      "metadata": {
        "id": "qHbx0pwoUSjI"
      },
      "execution_count": 18,
      "outputs": []
    },
    {
      "cell_type": "code",
      "source": [
        "dictData = {0:False, 1:True}"
      ],
      "metadata": {
        "id": "cDwaV7WwUYlH"
      },
      "execution_count": 19,
      "outputs": []
    }
  ],
  "metadata": {
    "colab": {
      "name": "Colab 시작하기",
      "toc_visible": true,
      "provenance": [],
      "include_colab_link": true
    },
    "kernelspec": {
      "display_name": "Python 3",
      "name": "python3"
    }
  },
  "nbformat": 4,
  "nbformat_minor": 0
}