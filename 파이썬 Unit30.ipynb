{
  "cells": [
    {
      "cell_type": "markdown",
      "metadata": {
        "id": "view-in-github",
        "colab_type": "text"
      },
      "source": [
        "<a href=\"https://colab.research.google.com/github/yun2590/homework2025/blob/main/%ED%8C%8C%EC%9D%B4%EC%8D%AC%20Unit30.ipynb\" target=\"_parent\"><img src=\"https://colab.research.google.com/assets/colab-badge.svg\" alt=\"Open In Colab\"/></a>"
      ]
    },
    {
      "cell_type": "code",
      "source": [
        "ret = round(42.195)\n",
        "print(ret)"
      ],
      "metadata": {
        "id": "0HY2qmDGm3NS",
        "outputId": "e8261927-3835-4f6a-c890-c61b1eb2bf64",
        "colab": {
          "base_uri": "https://localhost:8080/"
        }
      },
      "execution_count": 4,
      "outputs": [
        {
          "output_type": "stream",
          "name": "stdout",
          "text": [
            "42\n"
          ]
        }
      ]
    },
    {
      "cell_type": "code",
      "source": [
        "ret = round(42.195,0)\n",
        "print(ret)"
      ],
      "metadata": {
        "id": "Qn3hcvxDnAJR",
        "outputId": "b97952ba-9d6c-414a-ab86-ed94e6549197",
        "colab": {
          "base_uri": "https://localhost:8080/"
        }
      },
      "execution_count": 5,
      "outputs": [
        {
          "output_type": "stream",
          "name": "stdout",
          "text": [
            "42.0\n"
          ]
        }
      ]
    },
    {
      "cell_type": "code",
      "source": [
        "ret = round(42.195,1)\n",
        "print(ret)"
      ],
      "metadata": {
        "id": "H6rof2WInQEa",
        "outputId": "86d714c4-54e2-4188-9bb6-ea3439834b2e",
        "colab": {
          "base_uri": "https://localhost:8080/"
        }
      },
      "execution_count": 6,
      "outputs": [
        {
          "output_type": "stream",
          "name": "stdout",
          "text": [
            "42.2\n"
          ]
        }
      ]
    },
    {
      "cell_type": "code",
      "source": [
        "ret = round(42.195,-1)\n",
        "print(ret)"
      ],
      "metadata": {
        "id": "0QSclI6PnUep",
        "outputId": "8073dc25-6595-4668-9710-04ee4b5c28db",
        "colab": {
          "base_uri": "https://localhost:8080/"
        }
      },
      "execution_count": 7,
      "outputs": [
        {
          "output_type": "stream",
          "name": "stdout",
          "text": [
            "40.0\n"
          ]
        }
      ]
    }
  ],
  "metadata": {
    "colab": {
      "name": "Colab 시작하기",
      "toc_visible": true,
      "provenance": [],
      "include_colab_link": true
    },
    "kernelspec": {
      "display_name": "Python 3",
      "name": "python3"
    }
  },
  "nbformat": 4,
  "nbformat_minor": 0
}