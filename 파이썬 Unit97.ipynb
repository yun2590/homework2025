{
  "cells": [
    {
      "cell_type": "markdown",
      "metadata": {
        "id": "view-in-github",
        "colab_type": "text"
      },
      "source": [
        "<a href=\"https://colab.research.google.com/github/yun2590/homework2025/blob/main/%ED%8C%8C%EC%9D%B4%EC%8D%AC%20Unit97.ipynb\" target=\"_parent\"><img src=\"https://colab.research.google.com/assets/colab-badge.svg\" alt=\"Open In Colab\"/></a>"
      ]
    },
    {
      "cell_type": "code",
      "source": [
        "setData = {'사과','배','사과','수박','오렌지'}\n",
        "print(setData)"
      ],
      "metadata": {
        "id": "ZBSwJy0eBPzK",
        "outputId": "68314fea-4cd8-4cc3-8e70-c94adc5a52c2",
        "colab": {
          "base_uri": "https://localhost:8080/"
        }
      },
      "execution_count": 6,
      "outputs": [
        {
          "output_type": "stream",
          "name": "stdout",
          "text": [
            "{'배', '수박', '사과', '오렌지'}\n"
          ]
        }
      ]
    },
    {
      "cell_type": "code",
      "source": [
        "print(setData)   # 한 번 더 호출"
      ],
      "metadata": {
        "id": "7A1SUE9rBYIM",
        "outputId": "33ee3d77-16be-462f-eb1d-1b24e387c977",
        "colab": {
          "base_uri": "https://localhost:8080/"
        }
      },
      "execution_count": 7,
      "outputs": [
        {
          "output_type": "stream",
          "name": "stdout",
          "text": [
            "{'배', '수박', '사과', '오렌지'}\n"
          ]
        }
      ]
    },
    {
      "cell_type": "code",
      "source": [
        "strData = 'abcabccdef'\n",
        "setData = set(strData)\n",
        "print(setData)"
      ],
      "metadata": {
        "id": "BqPbSwqXBb69",
        "outputId": "c6ad7720-8f08-4c83-d16b-dbc0abe8cdf2",
        "colab": {
          "base_uri": "https://localhost:8080/"
        }
      },
      "execution_count": 16,
      "outputs": [
        {
          "output_type": "stream",
          "name": "stdout",
          "text": [
            "{'e', 'f', 'c', 'a', 'b', 'd'}\n"
          ]
        }
      ]
    },
    {
      "cell_type": "code",
      "source": [
        "fruits = ('사과','배','수박','배','사과','오렌지')\n",
        "setData = set(fruits)\n",
        "print(setData)"
      ],
      "metadata": {
        "id": "46AA7-MfB0TG",
        "outputId": "4b5dbd09-3c44-408f-8b4b-883f8dfcd43f",
        "colab": {
          "base_uri": "https://localhost:8080/"
        }
      },
      "execution_count": 17,
      "outputs": [
        {
          "output_type": "stream",
          "name": "stdout",
          "text": [
            "{'오렌지', '수박', '사과', '배'}\n"
          ]
        }
      ]
    }
  ],
  "metadata": {
    "colab": {
      "name": "Colab 시작하기",
      "toc_visible": true,
      "provenance": [],
      "include_colab_link": true
    },
    "kernelspec": {
      "display_name": "Python 3",
      "name": "python3"
    }
  },
  "nbformat": 4,
  "nbformat_minor": 0
}