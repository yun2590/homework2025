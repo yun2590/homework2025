{
  "cells": [
    {
      "cell_type": "markdown",
      "metadata": {
        "id": "view-in-github",
        "colab_type": "text"
      },
      "source": [
        "<a href=\"https://colab.research.google.com/github/yun2590/homework2025/blob/main/%ED%8C%8C%EC%9D%B4%EC%8D%AC%20Unit78.ipynb\" target=\"_parent\"><img src=\"https://colab.research.google.com/assets/colab-badge.svg\" alt=\"Open In Colab\"/></a>"
      ]
    },
    {
      "cell_type": "code",
      "source": [
        "sample = 'A lot of things occur each day, it\\'s very dyanmical every day.'\n",
        "pos = sample.find('day')\n",
        "print(pos)"
      ],
      "metadata": {
        "id": "JCLRX_5DMtvd",
        "outputId": "9c1d083b-4e82-465d-aea0-1112a2bfde3c",
        "colab": {
          "base_uri": "https://localhost:8080/"
        }
      },
      "execution_count": 11,
      "outputs": [
        {
          "output_type": "stream",
          "name": "stdout",
          "text": [
            "27\n"
          ]
        }
      ]
    },
    {
      "cell_type": "code",
      "source": [
        "spos = 0                    #find()가 대상을 찾기 시작할 인덱스\n",
        "idx = 0                     #대상이 위치하는 인덱스\n",
        "count = 1\n",
        "while idx != -1:\n",
        "  idx = sample.find('day', spos)\n",
        "  print(f'\"day\"가 발견된 [{count}]번째 인덱스 {idx}')\n",
        "  spos = idx + 1           #find()가 대상을 찾기 시작할 인덱스 수정\n",
        "  count += 1"
      ],
      "metadata": {
        "id": "vnE1Joj5NGPT",
        "outputId": "5516b517-a59c-4140-8d06-0cf8a562ebaf",
        "colab": {
          "base_uri": "https://localhost:8080/"
        }
      },
      "execution_count": 12,
      "outputs": [
        {
          "output_type": "stream",
          "name": "stdout",
          "text": [
            "\"day\"가 발견된 [1]번째 인덱스 27\n",
            "\"day\"가 발견된 [2]번째 인덱스 58\n",
            "\"day\"가 발견된 [3]번째 인덱스 -1\n"
          ]
        }
      ]
    }
  ],
  "metadata": {
    "colab": {
      "name": "Colab 시작하기",
      "toc_visible": true,
      "provenance": [],
      "include_colab_link": true
    },
    "kernelspec": {
      "display_name": "Python 3",
      "name": "python3"
    }
  },
  "nbformat": 4,
  "nbformat_minor": 0
}