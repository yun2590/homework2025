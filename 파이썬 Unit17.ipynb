{
  "cells": [
    {
      "cell_type": "markdown",
      "metadata": {
        "id": "view-in-github",
        "colab_type": "text"
      },
      "source": [
        "<a href=\"https://colab.research.google.com/github/yun2590/homework2025/blob/main/%ED%8C%8C%EC%9D%B4%EC%8D%AC%20Unit17.ipynb\" target=\"_parent\"><img src=\"https://colab.research.google.com/assets/colab-badge.svg\" alt=\"Open In Colab\"/></a>"
      ]
    },
    {
      "cell_type": "code",
      "source": [
        "for 변수 in 범위:\n",
        "  반복 실행 코드\n",
        "else:\n",
        "  for문의 반복 실행 코드가 빠짐없이 실행되었을 경우 실행할 코드"
      ],
      "metadata": {
        "id": "E6qDlJTUIus9"
      },
      "execution_count": null,
      "outputs": []
    },
    {
      "cell_type": "code",
      "source": [
        "for x in [1,2,3]:\n",
        "  print(x)\n",
        "else:\n",
        "  print('Perfect!')"
      ],
      "metadata": {
        "id": "NvOWju8zI4Mj",
        "outputId": "b1253689-49ef-40eb-c2ef-a7cc74dd84cf",
        "colab": {
          "base_uri": "https://localhost:8080/"
        }
      },
      "execution_count": 13,
      "outputs": [
        {
          "output_type": "stream",
          "name": "stdout",
          "text": [
            "1\n",
            "2\n",
            "3\n",
            "Perfect!\n"
          ]
        }
      ]
    },
    {
      "cell_type": "code",
      "source": [
        "for x in [1,2,3]:\n",
        "  print(x)\n",
        "  if x>1:\n",
        "    break\n",
        "else:\n",
        "    print('Perfect!')"
      ],
      "metadata": {
        "id": "H744M_-3JC7o",
        "outputId": "23fbda98-2aa9-4c68-c2b0-e773e28e8829",
        "colab": {
          "base_uri": "https://localhost:8080/"
        }
      },
      "execution_count": 15,
      "outputs": [
        {
          "output_type": "stream",
          "name": "stdout",
          "text": [
            "1\n",
            "2\n"
          ]
        }
      ]
    }
  ],
  "metadata": {
    "colab": {
      "name": "Colab 시작하기",
      "toc_visible": true,
      "provenance": [],
      "include_colab_link": true
    },
    "kernelspec": {
      "display_name": "Python 3",
      "name": "python3"
    }
  },
  "nbformat": 4,
  "nbformat_minor": 0
}