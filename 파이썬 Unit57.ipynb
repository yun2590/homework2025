{
  "cells": [
    {
      "cell_type": "markdown",
      "metadata": {
        "id": "view-in-github",
        "colab_type": "text"
      },
      "source": [
        "<a href=\"https://colab.research.google.com/github/yun2590/homework2025/blob/main/%ED%8C%8C%EC%9D%B4%EC%8D%AC%20Unit57.ipynb\" target=\"_parent\"><img src=\"https://colab.research.google.com/assets/colab-badge.svg\" alt=\"Open In Colab\"/></a>"
      ]
    },
    {
      "cell_type": "code",
      "source": [
        "fruits=['사과','배','오렌지','수박','참외']\n",
        "del fruits[1]\n",
        "print(fruits)\n",
        "del fruits[-1]\n",
        "print(fruits)"
      ],
      "metadata": {
        "id": "pmMUPmZgJICL",
        "outputId": "ef764cc9-d050-4da3-a704-b1bf4aa6b147",
        "colab": {
          "base_uri": "https://localhost:8080/"
        }
      },
      "execution_count": 10,
      "outputs": [
        {
          "output_type": "stream",
          "name": "stdout",
          "text": [
            "['사과', '오렌지', '수박', '참외']\n",
            "['사과', '오렌지', '수박']\n"
          ]
        }
      ]
    },
    {
      "cell_type": "code",
      "source": [
        "solarsys=['태양','수성','금성','지구','화성','소행성대','목성','토성']\n",
        "del solarsys[4:6]\n",
        "print(solarsys)"
      ],
      "metadata": {
        "id": "G2cJ3B_0JY6A",
        "outputId": "86490cc2-de0f-4eaa-d787-fde03a662435",
        "colab": {
          "base_uri": "https://localhost:8080/"
        }
      },
      "execution_count": 11,
      "outputs": [
        {
          "output_type": "stream",
          "name": "stdout",
          "text": [
            "['태양', '수성', '금성', '지구', '목성', '토성']\n"
          ]
        }
      ]
    },
    {
      "cell_type": "code",
      "source": [
        "del solarsys[:]\n",
        "print(solarsys)"
      ],
      "metadata": {
        "id": "zjaYjA3mJqq_",
        "outputId": "089f2879-1dcc-451a-a508-a0e472ed09e8",
        "colab": {
          "base_uri": "https://localhost:8080/"
        }
      },
      "execution_count": 12,
      "outputs": [
        {
          "output_type": "stream",
          "name": "stdout",
          "text": [
            "[]\n"
          ]
        }
      ]
    },
    {
      "cell_type": "code",
      "source": [
        "solarsys=['태양','수성','금성','지구','화성','소행성대','목성','토성']\n",
        "if '소행성대' in solarsys:\n",
        "  idx = solarsys.index('소행성대')\n",
        "  del solarsys[idx]\n",
        "\n",
        "print(solarsys)"
      ],
      "metadata": {
        "id": "agadc-JnJuhF",
        "outputId": "c81e4e73-ebde-4118-9635-3e27d448346c",
        "colab": {
          "base_uri": "https://localhost:8080/"
        }
      },
      "execution_count": 13,
      "outputs": [
        {
          "output_type": "stream",
          "name": "stdout",
          "text": [
            "['태양', '수성', '금성', '지구', '화성', '목성', '토성']\n"
          ]
        }
      ]
    },
    {
      "cell_type": "code",
      "source": [
        "fruits=['사과','배','오렌지','수박','참외']\n",
        "del fruits\n",
        "print(fruits)"
      ],
      "metadata": {
        "id": "Ku8Uwo_jJ990",
        "outputId": "46ccb157-2d79-49cf-c095-aee973be0750",
        "colab": {
          "base_uri": "https://localhost:8080/",
          "height": 184
        }
      },
      "execution_count": 15,
      "outputs": [
        {
          "output_type": "error",
          "ename": "NameError",
          "evalue": "name 'fruits' is not defined",
          "traceback": [
            "\u001b[0;31m---------------------------------------------------------------------------\u001b[0m",
            "\u001b[0;31mNameError\u001b[0m                                 Traceback (most recent call last)",
            "\u001b[0;32m/tmp/ipython-input-3333588137.py\u001b[0m in \u001b[0;36m<cell line: 0>\u001b[0;34m()\u001b[0m\n\u001b[1;32m      1\u001b[0m \u001b[0mfruits\u001b[0m\u001b[0;34m=\u001b[0m\u001b[0;34m[\u001b[0m\u001b[0;34m'사과'\u001b[0m\u001b[0;34m,\u001b[0m\u001b[0;34m'배'\u001b[0m\u001b[0;34m,\u001b[0m\u001b[0;34m'오렌지'\u001b[0m\u001b[0;34m,\u001b[0m\u001b[0;34m'수박'\u001b[0m\u001b[0;34m,\u001b[0m\u001b[0;34m'참외'\u001b[0m\u001b[0;34m]\u001b[0m\u001b[0;34m\u001b[0m\u001b[0;34m\u001b[0m\u001b[0m\n\u001b[1;32m      2\u001b[0m \u001b[0;32mdel\u001b[0m \u001b[0mfruits\u001b[0m\u001b[0;34m\u001b[0m\u001b[0;34m\u001b[0m\u001b[0m\n\u001b[0;32m----> 3\u001b[0;31m \u001b[0mprint\u001b[0m\u001b[0;34m(\u001b[0m\u001b[0mfruits\u001b[0m\u001b[0;34m)\u001b[0m\u001b[0;34m\u001b[0m\u001b[0;34m\u001b[0m\u001b[0m\n\u001b[0m",
            "\u001b[0;31mNameError\u001b[0m: name 'fruits' is not defined"
          ]
        }
      ]
    }
  ],
  "metadata": {
    "colab": {
      "name": "Colab 시작하기",
      "toc_visible": true,
      "provenance": [],
      "include_colab_link": true
    },
    "kernelspec": {
      "display_name": "Python 3",
      "name": "python3"
    }
  },
  "nbformat": 4,
  "nbformat_minor": 0
}