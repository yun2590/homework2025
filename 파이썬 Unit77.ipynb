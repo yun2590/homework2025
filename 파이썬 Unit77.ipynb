{
  "cells": [
    {
      "cell_type": "markdown",
      "metadata": {
        "id": "view-in-github",
        "colab_type": "text"
      },
      "source": [
        "<a href=\"https://colab.research.google.com/github/yun2590/homework2025/blob/main/%ED%8C%8C%EC%9D%B4%EC%8D%AC%20Unit77.ipynb\" target=\"_parent\"><img src=\"https://colab.research.google.com/assets/colab-badge.svg\" alt=\"Open In Colab\"/></a>"
      ]
    },
    {
      "cell_type": "code",
      "source": [
        "pi = 3.141592\n",
        "text = '{}의 근사값은 {}입니다.'.format('원주율', pi)\n",
        "print(text)"
      ],
      "metadata": {
        "colab": {
          "base_uri": "https://localhost:8080/"
        },
        "id": "mbjNSwFuLHLA",
        "outputId": "9cd1bca8-c2c4-48f6-859d-60d3c8a5d635"
      },
      "execution_count": 6,
      "outputs": [
        {
          "output_type": "stream",
          "name": "stdout",
          "text": [
            "원주율의 근사값은 3.141592입니다.\n"
          ]
        }
      ]
    },
    {
      "cell_type": "code",
      "source": [
        "print('{}의 근사값은 {:.2f} 입니다.'.format('원주율', pi))"
      ],
      "metadata": {
        "id": "dnAIK7AeMG4a",
        "outputId": "92c7799c-facb-40bc-e1a9-f86517070fa4",
        "colab": {
          "base_uri": "https://localhost:8080/"
        }
      },
      "execution_count": 7,
      "outputs": [
        {
          "output_type": "stream",
          "name": "stdout",
          "text": [
            "원주율의 근사값은 3.14 입니다.\n"
          ]
        }
      ]
    },
    {
      "cell_type": "code",
      "source": [
        "population = 8789911\n",
        "text = '{}: {:,d} 명'.format('서울', population)\n",
        "print(text)"
      ],
      "metadata": {
        "id": "L1xUIMqQMScp",
        "outputId": "7c64d090-5c7e-412c-a6ee-6d00fe79611b",
        "colab": {
          "base_uri": "https://localhost:8080/"
        }
      },
      "execution_count": 9,
      "outputs": [
        {
          "output_type": "stream",
          "name": "stdout",
          "text": [
            "서울: 8,789,911 명\n"
          ]
        }
      ]
    }
  ],
  "metadata": {
    "colab": {
      "name": "Colab 시작하기",
      "toc_visible": true,
      "provenance": [],
      "include_colab_link": true
    },
    "kernelspec": {
      "display_name": "Python 3",
      "name": "python3"
    }
  },
  "nbformat": 4,
  "nbformat_minor": 0
}