{
  "cells": [
    {
      "cell_type": "markdown",
      "metadata": {
        "id": "view-in-github",
        "colab_type": "text"
      },
      "source": [
        "<a href=\"https://colab.research.google.com/github/yun2590/homework2025/blob/main/%ED%8C%8C%EC%9D%B4%EC%8D%AC%20Unit29.ipynb\" target=\"_parent\"><img src=\"https://colab.research.google.com/assets/colab-badge.svg\" alt=\"Open In Colab\"/></a>"
      ]
    },
    {
      "cell_type": "code",
      "source": [
        "x = 11113\n",
        "y = 23\n",
        "ret1 = x // y\n",
        "ret2 = x % y\n",
        "print(f'{x}을(를) {y}(으)로 나누면 몫이 {ret1}, 나머지가 {ret2}입니다.')"
      ],
      "metadata": {
        "id": "p_-0IYf-5xG6",
        "outputId": "2d12dabb-027b-49f5-cda5-a7ec694c5807",
        "colab": {
          "base_uri": "https://localhost:8080/"
        }
      },
      "execution_count": 13,
      "outputs": [
        {
          "output_type": "stream",
          "name": "stdout",
          "text": [
            "11113을(를) 23(으)로 나누면 몫이 483, 나머지가 4입니다.\n"
          ]
        }
      ]
    },
    {
      "cell_type": "code",
      "source": [
        "x = 11113\n",
        "y = 23\n",
        "ret1, ret2 = divmod(x,y)\n",
        "print(f'{x}을(를) {y}(으)로 나누면 몫이 {ret1}, 나머지가 {ret2}입니다.')"
      ],
      "metadata": {
        "id": "JbJJqq1D6I5g",
        "outputId": "b6ebe446-efbf-4fbc-c577-f8c11d3f147c",
        "colab": {
          "base_uri": "https://localhost:8080/"
        }
      },
      "execution_count": 14,
      "outputs": [
        {
          "output_type": "stream",
          "name": "stdout",
          "text": [
            "11113을(를) 23(으)로 나누면 몫이 483, 나머지가 4입니다.\n"
          ]
        }
      ]
    }
  ],
  "metadata": {
    "colab": {
      "name": "Colab 시작하기",
      "toc_visible": true,
      "provenance": [],
      "include_colab_link": true
    },
    "kernelspec": {
      "display_name": "Python 3",
      "name": "python3"
    }
  },
  "nbformat": 4,
  "nbformat_minor": 0
}