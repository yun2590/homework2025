{
  "cells": [
    {
      "cell_type": "markdown",
      "metadata": {
        "id": "view-in-github",
        "colab_type": "text"
      },
      "source": [
        "<a href=\"https://colab.research.google.com/github/yun2590/homework2025/blob/main/%ED%8C%8C%EC%9D%B4%EC%8D%AC%20Unit31.ipynb\" target=\"_parent\"><img src=\"https://colab.research.google.com/assets/colab-badge.svg\" alt=\"Open In Colab\"/></a>"
      ]
    },
    {
      "cell_type": "code",
      "source": [
        "floatData=1234.5\n",
        "intData=int(floatData)\n",
        "print(f'intData{intData} 자료형은 {type(intData)}입니다.')"
      ],
      "metadata": {
        "id": "wwT0ZFGdngGq",
        "outputId": "987a4300-6e33-4d78-f9b0-eb195a2a929d",
        "colab": {
          "base_uri": "https://localhost:8080/"
        }
      },
      "execution_count": 11,
      "outputs": [
        {
          "output_type": "stream",
          "name": "stdout",
          "text": [
            "intData1234 자료형은 <class 'int'>입니다.\n"
          ]
        }
      ]
    },
    {
      "cell_type": "code",
      "source": [
        "strData='1234'\n",
        "intData=int(strData)\n",
        "print(f'intData{intData} 자라ㅛ형은 {type(intData)}입니다.')"
      ],
      "metadata": {
        "id": "z8NG_UN-nyDa",
        "outputId": "45f9338f-d89d-405c-cc37-56ce98d6f07b",
        "colab": {
          "base_uri": "https://localhost:8080/"
        }
      },
      "execution_count": 9,
      "outputs": [
        {
          "output_type": "stream",
          "name": "stdout",
          "text": [
            "intData1234 자라ㅛ형은 <class 'int'>입니다.\n"
          ]
        }
      ]
    },
    {
      "cell_type": "code",
      "source": [
        "strData='1234.5'\n",
        "intData=int(strData)"
      ],
      "metadata": {
        "id": "My2MI8bnn7MJ",
        "outputId": "c4c5af3f-f71f-41f9-ed27-c6a88857af83",
        "colab": {
          "base_uri": "https://localhost:8080/",
          "height": 166
        }
      },
      "execution_count": 10,
      "outputs": [
        {
          "output_type": "error",
          "ename": "ValueError",
          "evalue": "invalid literal for int() with base 10: '1234.5'",
          "traceback": [
            "\u001b[0;31m---------------------------------------------------------------------------\u001b[0m",
            "\u001b[0;31mValueError\u001b[0m                                Traceback (most recent call last)",
            "\u001b[0;32m/tmp/ipython-input-2066714721.py\u001b[0m in \u001b[0;36m<cell line: 0>\u001b[0;34m()\u001b[0m\n\u001b[1;32m      1\u001b[0m \u001b[0mstrData\u001b[0m\u001b[0;34m=\u001b[0m\u001b[0;34m'1234.5'\u001b[0m\u001b[0;34m\u001b[0m\u001b[0;34m\u001b[0m\u001b[0m\n\u001b[0;32m----> 2\u001b[0;31m \u001b[0mintData\u001b[0m\u001b[0;34m=\u001b[0m\u001b[0mint\u001b[0m\u001b[0;34m(\u001b[0m\u001b[0mstrData\u001b[0m\u001b[0;34m)\u001b[0m\u001b[0;34m\u001b[0m\u001b[0;34m\u001b[0m\u001b[0m\n\u001b[0m",
            "\u001b[0;31mValueError\u001b[0m: invalid literal for int() with base 10: '1234.5'"
          ]
        }
      ]
    },
    {
      "cell_type": "code",
      "source": [
        "strData='1234.5'\n",
        "floatData=float(strData)\n",
        "print(f'foatData{floatData} 자료형은 {type(floatData)}입니다.')"
      ],
      "metadata": {
        "id": "R3Q7wlbNoBJp",
        "outputId": "0cb8f865-9090-4f84-d3a7-688e31ab64ad",
        "colab": {
          "base_uri": "https://localhost:8080/"
        }
      },
      "execution_count": 12,
      "outputs": [
        {
          "output_type": "stream",
          "name": "stdout",
          "text": [
            "foatData1234.5 자료형은 <class 'float'>입니다.\n"
          ]
        }
      ]
    },
    {
      "cell_type": "code",
      "source": [
        "print(float('2E5'))\n",
        "print(float('2e-3'))"
      ],
      "metadata": {
        "id": "FZ6fYxi-oZE5",
        "outputId": "36c33811-5efc-4c5b-d6ca-177de8447824",
        "colab": {
          "base_uri": "https://localhost:8080/"
        }
      },
      "execution_count": 14,
      "outputs": [
        {
          "output_type": "stream",
          "name": "stdout",
          "text": [
            "200000.0\n",
            "0.002\n"
          ]
        }
      ]
    },
    {
      "cell_type": "code",
      "source": [
        "intData=1234; strData1=str(intData)\n",
        "floatData1=1234.5; strData2=str(floatData1)\n",
        "floatData2=1e-3; strData3=str(floatData2)\n",
        "print(f'정수 {intData} => 문자열 {strData1}, {type(strData1)}')\n",
        "print(f'실수 {floatData1} => 문자열 {strData2}, {type(strData2)}')\n",
        "print(f'실수 {floatData2} => 문자열 {strData3}, {type(strData3)}')"
      ],
      "metadata": {
        "id": "QgGHSObqokYZ",
        "outputId": "8ad7340a-f6bf-44ed-f992-a0debc2ca27b",
        "colab": {
          "base_uri": "https://localhost:8080/"
        }
      },
      "execution_count": 15,
      "outputs": [
        {
          "output_type": "stream",
          "name": "stdout",
          "text": [
            "정수 1234 => 문자열 1234, <class 'str'>\n",
            "실수 1234.5 => 문자열 1234.5, <class 'str'>\n",
            "실수 0.001 => 문자열 0.001, <class 'str'>\n"
          ]
        }
      ]
    }
  ],
  "metadata": {
    "colab": {
      "name": "Colab 시작하기",
      "toc_visible": true,
      "provenance": [],
      "include_colab_link": true
    },
    "kernelspec": {
      "display_name": "Python 3",
      "name": "python3"
    }
  },
  "nbformat": 4,
  "nbformat_minor": 0
}