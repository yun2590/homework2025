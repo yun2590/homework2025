{
  "cells": [
    {
      "cell_type": "markdown",
      "metadata": {
        "id": "view-in-github",
        "colab_type": "text"
      },
      "source": [
        "<a href=\"https://colab.research.google.com/github/yun2590/homework2025/blob/main/%ED%8C%8C%EC%9D%B4%EC%8D%AC%20Unit18.ipynb\" target=\"_parent\"><img src=\"https://colab.research.google.com/assets/colab-badge.svg\" alt=\"Open In Colab\"/></a>"
      ]
    },
    {
      "cell_type": "code",
      "source": [
        "while 조건:\n",
        "  조건이 참일 때 반복 실행 코드\n",
        "  ...\n",
        "  continue     #while문 처음으로 이동하여 반복 실행 코드 계속\n",
        "  ...\n",
        "  break        #while문 탈출"
      ],
      "metadata": {
        "id": "FocP_u7dQM9c"
      },
      "execution_count": null,
      "outputs": []
    },
    {
      "cell_type": "code",
      "source": [
        "x=0\n",
        "while x<10:\n",
        "  x=x+1\n",
        "  if x<3:\n",
        "    continue\n",
        "\n",
        "  print(x)\n",
        "  if x>4:\n",
        "    break"
      ],
      "metadata": {
        "id": "ngV2DZZfQf_w",
        "outputId": "634ca1ac-f303-40bb-b031-1d2e35eec381",
        "colab": {
          "base_uri": "https://localhost:8080/"
        }
      },
      "execution_count": 1,
      "outputs": [
        {
          "output_type": "stream",
          "name": "stdout",
          "text": [
            "3\n",
            "4\n",
            "5\n"
          ]
        }
      ]
    },
    {
      "cell_type": "code",
      "source": [
        "n=1\n",
        "total=0\n",
        "while True:\n",
        "  total=total+n\n",
        "  if total>100000:\n",
        "    print('1+2+...+n 값이 10만 보다 커지게 되는 n:', n)\n",
        "    print('이 때 총합은', total)\n",
        "    break\n",
        "  n=n+1"
      ],
      "metadata": {
        "id": "QtbqP7GBQwNc",
        "outputId": "85f9fcca-358c-4c59-d03f-a92486335dca",
        "colab": {
          "base_uri": "https://localhost:8080/"
        }
      },
      "execution_count": 2,
      "outputs": [
        {
          "output_type": "stream",
          "name": "stdout",
          "text": [
            "1+2+...+n 값이 10만 보다 커지게 되는 n: 447\n",
            "이 때 총합은 100128\n"
          ]
        }
      ]
    }
  ],
  "metadata": {
    "colab": {
      "name": "Colab 시작하기",
      "toc_visible": true,
      "provenance": [],
      "include_colab_link": true
    },
    "kernelspec": {
      "display_name": "Python 3",
      "name": "python3"
    }
  },
  "nbformat": 4,
  "nbformat_minor": 0
}