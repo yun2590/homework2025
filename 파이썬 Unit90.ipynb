{
  "cells": [
    {
      "cell_type": "markdown",
      "metadata": {
        "id": "view-in-github",
        "colab_type": "text"
      },
      "source": [
        "<a href=\"https://colab.research.google.com/github/yun2590/homework2025/blob/main/%ED%8C%8C%EC%9D%B4%EC%8D%AC%20Unit90.ipynb\" target=\"_parent\"><img src=\"https://colab.research.google.com/assets/colab-badge.svg\" alt=\"Open In Colab\"/></a>"
      ]
    },
    {
      "cell_type": "code",
      "source": [
        "strData = '[info]Seoul is the captial of Korea.'\n",
        "cityinfo = strData.removeprefix('[info]')\n",
        "print(cityinfo)"
      ],
      "metadata": {
        "id": "6ThoWcIpaWXO",
        "outputId": "229b6e84-8822-44a4-cefd-f88c0b9e4562",
        "colab": {
          "base_uri": "https://localhost:8080/"
        }
      },
      "execution_count": 19,
      "outputs": [
        {
          "output_type": "stream",
          "name": "stdout",
          "text": [
            "Seoul is the captial of Korea.\n"
          ]
        }
      ]
    },
    {
      "cell_type": "code",
      "source": [
        "strData = '이것으로 문장을 마무리합니다.<EOD>'\n",
        "ret = strData.removesuffix('<EOD>')\n",
        "print(ret)"
      ],
      "metadata": {
        "id": "3rKCJcDnamH_",
        "outputId": "b00028df-c452-4166-d7c3-8f7e08f7d7b5",
        "colab": {
          "base_uri": "https://localhost:8080/"
        }
      },
      "execution_count": 20,
      "outputs": [
        {
          "output_type": "stream",
          "name": "stdout",
          "text": [
            "이것으로 문장을 마무리합니다.\n"
          ]
        }
      ]
    }
  ],
  "metadata": {
    "colab": {
      "name": "Colab 시작하기",
      "toc_visible": true,
      "provenance": [],
      "include_colab_link": true
    },
    "kernelspec": {
      "display_name": "Python 3",
      "name": "python3"
    }
  },
  "nbformat": 4,
  "nbformat_minor": 0
}