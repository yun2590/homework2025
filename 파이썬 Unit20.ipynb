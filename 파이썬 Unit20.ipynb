{
  "cells": [
    {
      "cell_type": "markdown",
      "metadata": {
        "id": "view-in-github",
        "colab_type": "text"
      },
      "source": [
        "<a href=\"https://colab.research.google.com/github/yun2590/homework2025/blob/main/%ED%8C%8C%EC%9D%B4%EC%8D%AC%20Unit20.ipynb\" target=\"_parent\"><img src=\"https://colab.research.google.com/assets/colab-badge.svg\" alt=\"Open In Colab\"/></a>"
      ]
    },
    {
      "cell_type": "code",
      "source": [
        "http_status = 400\n",
        "match http_status:\n",
        "  case 400:\n",
        "    print('Bad Request')\n",
        "  case 401:\n",
        "    print('Unauthorized')\n",
        "  case 403:\n",
        "    print('Forbidden')\n",
        "  case 404:\n",
        "    print('Not Found')\n",
        "  case _:\n",
        "    print('기타 인터넷 문제로 뭔가 잘못됨')"
      ],
      "metadata": {
        "id": "Sjmi2abCR3Zs",
        "outputId": "861ec3c0-908d-4d63-eb7e-2ac33c8c8f2b",
        "colab": {
          "base_uri": "https://localhost:8080/"
        }
      },
      "execution_count": 6,
      "outputs": [
        {
          "output_type": "stream",
          "name": "stdout",
          "text": [
            "Bad Request\n"
          ]
        }
      ]
    },
    {
      "cell_type": "code",
      "source": [
        "http_status = 302\n",
        "match http_status:\n",
        "  case 200|202|203:\n",
        "    print('Success')\n",
        "  case 301|302|303:\n",
        "    print('Redirection')\n",
        "  case 400|401|403|404:\n",
        "    print('Client Errors')\n",
        "  case _:\n",
        "    print('기타 HTTP 응답 코드')"
      ],
      "metadata": {
        "id": "VX0t3qKCSiYH",
        "outputId": "8e95d900-de94-42dd-f93a-93aec0a9d476",
        "colab": {
          "base_uri": "https://localhost:8080/"
        }
      },
      "execution_count": 7,
      "outputs": [
        {
          "output_type": "stream",
          "name": "stdout",
          "text": [
            "Redirection\n"
          ]
        }
      ]
    },
    {
      "cell_type": "code",
      "source": [
        "point = (0,0)\n",
        "#point = (1,0)\n",
        "#point = (0,1)\n",
        "#point = (1,1)\n",
        "match point:\n",
        "  case (0,0):\n",
        "    print('원점 좌표')\n",
        "  case (x,0):\n",
        "    print(f'x축 위의 점이며 x의 값은 {x}')\n",
        "  case (0,y):\n",
        "    print(f'y축 위의 점이며 y의 값은 {y}')\n",
        "  case (x,y):\n",
        "    print(f'(x,y) = ({x}, {y})')\n",
        "  case _:\n",
        "    print('오류: 2차원 좌표가 아님')"
      ],
      "metadata": {
        "id": "Ic7L0T0hTTMr",
        "outputId": "d7a752de-2d98-4dac-e101-73ed68361c1e",
        "colab": {
          "base_uri": "https://localhost:8080/"
        }
      },
      "execution_count": 8,
      "outputs": [
        {
          "output_type": "stream",
          "name": "stdout",
          "text": [
            "원점 좌표\n"
          ]
        }
      ]
    }
  ],
  "metadata": {
    "colab": {
      "name": "Colab 시작하기",
      "toc_visible": true,
      "provenance": [],
      "include_colab_link": true
    },
    "kernelspec": {
      "display_name": "Python 3",
      "name": "python3"
    }
  },
  "nbformat": 4,
  "nbformat_minor": 0
}