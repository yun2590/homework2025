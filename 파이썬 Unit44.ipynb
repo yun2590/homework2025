{
  "cells": [
    {
      "cell_type": "markdown",
      "metadata": {
        "id": "view-in-github",
        "colab_type": "text"
      },
      "source": [
        "<a href=\"https://colab.research.google.com/github/yun2590/homework2025/blob/main/%ED%8C%8C%EC%9D%B4%EC%8D%AC%20Unit44.ipynb\" target=\"_parent\"><img src=\"https://colab.research.google.com/assets/colab-badge.svg\" alt=\"Open In Colab\"/></a>"
      ]
    },
    {
      "cell_type": "code",
      "source": [
        "listData = [42,1,39,27,44,8]\n",
        "ret1 = sorted(listData)\n",
        "ret2 = sorted(listData, reverse=True)\n",
        "print(ret1)\n",
        "print(ret2)\n",
        "print(listData)"
      ],
      "metadata": {
        "id": "796Bqzm3o3GR",
        "outputId": "068ede66-7c31-4028-ebc1-6684a0ac5730",
        "colab": {
          "base_uri": "https://localhost:8080/"
        }
      },
      "execution_count": 1,
      "outputs": [
        {
          "output_type": "stream",
          "name": "stdout",
          "text": [
            "[1, 8, 27, 39, 42, 44]\n",
            "[44, 42, 39, 27, 8, 1]\n",
            "[42, 1, 39, 27, 44, 8]\n"
          ]
        }
      ]
    },
    {
      "cell_type": "code",
      "source": [
        "tupleData = ('사과','배','오렌지','수박','참외')\n",
        "ret = sorted(tupleData)\n",
        "print(ret)"
      ],
      "metadata": {
        "id": "uodTZWEvo5iY",
        "outputId": "9e01d8fc-4dff-4963-fb4d-a3b262b5cebb",
        "colab": {
          "base_uri": "https://localhost:8080/"
        }
      },
      "execution_count": 2,
      "outputs": [
        {
          "output_type": "stream",
          "name": "stdout",
          "text": [
            "['배', '사과', '수박', '오렌지', '참외']\n"
          ]
        }
      ]
    },
    {
      "cell_type": "code",
      "source": [
        "strData = 'I love python!'\n",
        "ret = sorted(strData)\n",
        "print(ret)"
      ],
      "metadata": {
        "id": "asUHwZE0pHHw",
        "outputId": "35159c53-82e8-4d25-ee60-75c422b08d50",
        "colab": {
          "base_uri": "https://localhost:8080/"
        }
      },
      "execution_count": 3,
      "outputs": [
        {
          "output_type": "stream",
          "name": "stdout",
          "text": [
            "[' ', ' ', '!', 'I', 'e', 'h', 'l', 'n', 'o', 'o', 'p', 't', 'v', 'y']\n"
          ]
        }
      ]
    },
    {
      "cell_type": "code",
      "source": [
        "population = {'김씨':2834,'이씨':2288,'박씨':1889}\n",
        "ret = sorted(population)\n",
        "print(ret)"
      ],
      "metadata": {
        "id": "P5LXWzcDpQd4",
        "outputId": "117cb424-b3bf-4cbf-d3e5-2d7ea886544c",
        "colab": {
          "base_uri": "https://localhost:8080/"
        }
      },
      "execution_count": 4,
      "outputs": [
        {
          "output_type": "stream",
          "name": "stdout",
          "text": [
            "['김씨', '박씨', '이씨']\n"
          ]
        }
      ]
    }
  ],
  "metadata": {
    "colab": {
      "name": "Colab 시작하기",
      "toc_visible": true,
      "provenance": [],
      "include_colab_link": true
    },
    "kernelspec": {
      "display_name": "Python 3",
      "name": "python3"
    }
  },
  "nbformat": 4,
  "nbformat_minor": 0
}