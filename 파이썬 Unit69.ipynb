{
  "cells": [
    {
      "cell_type": "markdown",
      "metadata": {
        "id": "view-in-github",
        "colab_type": "text"
      },
      "source": [
        "<a href=\"https://colab.research.google.com/github/yun2590/homework2025/blob/main/%ED%8C%8C%EC%9D%B4%EC%8D%AC%20Unit69.ipynb\" target=\"_parent\"><img src=\"https://colab.research.google.com/assets/colab-badge.svg\" alt=\"Open In Colab\"/></a>"
      ]
    },
    {
      "cell_type": "code",
      "source": [
        "import collections\n",
        "myqueue = collections.deque([])"
      ],
      "metadata": {
        "id": "JjYd1T6eKFIM"
      },
      "execution_count": 26,
      "outputs": []
    },
    {
      "cell_type": "code",
      "source": [
        "def putData(data):\n",
        "  myqueue.append(data)"
      ],
      "metadata": {
        "id": "6oA8Z2KMKOpn"
      },
      "execution_count": 27,
      "outputs": []
    },
    {
      "cell_type": "code",
      "source": [
        "def popData():\n",
        "  if len(myqueue) == 0:\n",
        "    return None\n",
        "  return myqueue.popleft()"
      ],
      "metadata": {
        "id": "5bKyVgrHKTcl"
      },
      "execution_count": 41,
      "outputs": []
    },
    {
      "cell_type": "code",
      "source": [
        "putData('사과')\n",
        "putData([1,2,3])\n",
        "putData(3.141592)\n",
        "print(f'큐상태: {myqueue}')"
      ],
      "metadata": {
        "id": "IcZLYpI2Kg3I",
        "outputId": "332af46b-badf-426d-fa86-9cce1dd7059b",
        "colab": {
          "base_uri": "https://localhost:8080/"
        }
      },
      "execution_count": 42,
      "outputs": [
        {
          "output_type": "stream",
          "name": "stdout",
          "text": [
            "큐상태: deque(['사과', [1, 2, 3], 3.141592, '사과', [1, 2, 3], 3.141592, '사과', [1, 2, 3], 3.141592])\n"
          ]
        }
      ]
    },
    {
      "cell_type": "code",
      "source": [
        "ret = popData()\n",
        "while ret != None:\n",
        "  print(f'큐에서 데이터 추출: {ret}')\n",
        "  print(f'큐상태: {myqueue}')\n",
        "  print('--------------')\n",
        "  ret = popData()"
      ],
      "metadata": {
        "id": "EyIT2AngLJnO",
        "outputId": "b47c8d2e-fbd2-4e4f-ca24-cbb682b3ccbf",
        "colab": {
          "base_uri": "https://localhost:8080/"
        }
      },
      "execution_count": 43,
      "outputs": [
        {
          "output_type": "stream",
          "name": "stdout",
          "text": [
            "큐에서 데이터 추출: 사과\n",
            "큐상태: deque([[1, 2, 3], 3.141592, '사과', [1, 2, 3], 3.141592, '사과', [1, 2, 3], 3.141592])\n",
            "--------------\n",
            "큐에서 데이터 추출: [1, 2, 3]\n",
            "큐상태: deque([3.141592, '사과', [1, 2, 3], 3.141592, '사과', [1, 2, 3], 3.141592])\n",
            "--------------\n",
            "큐에서 데이터 추출: 3.141592\n",
            "큐상태: deque(['사과', [1, 2, 3], 3.141592, '사과', [1, 2, 3], 3.141592])\n",
            "--------------\n",
            "큐에서 데이터 추출: 사과\n",
            "큐상태: deque([[1, 2, 3], 3.141592, '사과', [1, 2, 3], 3.141592])\n",
            "--------------\n",
            "큐에서 데이터 추출: [1, 2, 3]\n",
            "큐상태: deque([3.141592, '사과', [1, 2, 3], 3.141592])\n",
            "--------------\n",
            "큐에서 데이터 추출: 3.141592\n",
            "큐상태: deque(['사과', [1, 2, 3], 3.141592])\n",
            "--------------\n",
            "큐에서 데이터 추출: 사과\n",
            "큐상태: deque([[1, 2, 3], 3.141592])\n",
            "--------------\n",
            "큐에서 데이터 추출: [1, 2, 3]\n",
            "큐상태: deque([3.141592])\n",
            "--------------\n",
            "큐에서 데이터 추출: 3.141592\n",
            "큐상태: deque([])\n",
            "--------------\n"
          ]
        }
      ]
    }
  ],
  "metadata": {
    "colab": {
      "name": "Colab 시작하기",
      "toc_visible": true,
      "provenance": [],
      "include_colab_link": true
    },
    "kernelspec": {
      "display_name": "Python 3",
      "name": "python3"
    }
  },
  "nbformat": 4,
  "nbformat_minor": 0
}