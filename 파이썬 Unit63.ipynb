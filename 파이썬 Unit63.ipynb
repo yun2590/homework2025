{
  "cells": [
    {
      "cell_type": "markdown",
      "metadata": {
        "id": "view-in-github",
        "colab_type": "text"
      },
      "source": [
        "<a href=\"https://colab.research.google.com/github/yun2590/homework2025/blob/main/%ED%8C%8C%EC%9D%B4%EC%8D%AC%20Unit63.ipynb\" target=\"_parent\"><img src=\"https://colab.research.google.com/assets/colab-badge.svg\" alt=\"Open In Colab\"/></a>"
      ]
    },
    {
      "cell_type": "code",
      "source": [
        "fileList=[]\n",
        "for i in range(3):\n",
        "  fname=input(f'파일 이름을 입력하세요[{i+1}/3]:')\n",
        "  if fname not in fileList:\n",
        "    fileList.append(fname)\n",
        "  print(f'현재 저장된 파일들:{fileList}')"
      ],
      "metadata": {
        "id": "oj-tzCS8ymBq",
        "outputId": "897da764-4bf3-4534-bdba-8874ae53366b",
        "colab": {
          "base_uri": "https://localhost:8080/"
        }
      },
      "execution_count": 16,
      "outputs": [
        {
          "output_type": "stream",
          "name": "stdout",
          "text": [
            "파일 이름을 입력하세요[1/3]:a.jpg\n",
            "현재 저장된 파일들:['a.jpg']\n",
            "파일 이름을 입력하세요[2/3]:b.jpg\n",
            "현재 저장된 파일들:['a.jpg', 'b.jpg']\n",
            "파일 이름을 입력하세요[3/3]:b.jpg\n",
            "현재 저장된 파일들:['a.jpg', 'b.jpg']\n"
          ]
        }
      ]
    }
  ],
  "metadata": {
    "colab": {
      "name": "Colab 시작하기",
      "toc_visible": true,
      "provenance": [],
      "include_colab_link": true
    },
    "kernelspec": {
      "display_name": "Python 3",
      "name": "python3"
    }
  },
  "nbformat": 4,
  "nbformat_minor": 0
}