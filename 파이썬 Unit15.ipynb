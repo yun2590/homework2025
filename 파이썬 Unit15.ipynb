{
  "cells": [
    {
      "cell_type": "markdown",
      "metadata": {
        "id": "view-in-github",
        "colab_type": "text"
      },
      "source": [
        "<a href=\"https://colab.research.google.com/github/yun2590/homework2025/blob/main/%ED%8C%8C%EC%9D%B4%EC%8D%AC%20Unit15.ipynb\" target=\"_parent\"><img src=\"https://colab.research.google.com/assets/colab-badge.svg\" alt=\"Open In Colab\"/></a>"
      ]
    },
    {
      "cell_type": "code",
      "source": [
        "if 조건:\n",
        "  조건이 참일 경우 실행하는 코드"
      ],
      "metadata": {
        "id": "qyt9QsZXFuBH"
      },
      "execution_count": null,
      "outputs": []
    },
    {
      "cell_type": "code",
      "source": [
        "if 조건:\n",
        "  조건이 참일 경우 실행하는 코드\n",
        "else:\n",
        "  조건이 거짓일 경우 실행하는 코드"
      ],
      "metadata": {
        "id": "LbckkVjOFxtc"
      },
      "execution_count": null,
      "outputs": []
    },
    {
      "cell_type": "code",
      "source": [
        "x = 1\n",
        "y = 2\n",
        "if x < y:\n",
        "  print('x가 y보다 작습니다.')\n",
        "else:\n",
        "  print('x가 y보다 작지 않습니다.')"
      ],
      "metadata": {
        "id": "GCl9bhDEF6mm",
        "outputId": "e69df12d-8996-4f19-f02b-eb2ab070a53e",
        "colab": {
          "base_uri": "https://localhost:8080/"
        }
      },
      "execution_count": 4,
      "outputs": [
        {
          "output_type": "stream",
          "name": "stdout",
          "text": [
            "x가 y보다 작습니다.\n"
          ]
        }
      ]
    },
    {
      "cell_type": "code",
      "source": [
        "if 조건1:\n",
        "  조건1이 참일 경우 실행하는 코드\n",
        "elif 조건2:\n",
        "  조건1이 거짓이고 조건2가 참일 경우 실행하는 코드\n",
        "else:\n",
        "  조건1, 조건2가 모두 거짓일 경우 실행하는 코드"
      ],
      "metadata": {
        "id": "q-gxh_ylGJGO"
      },
      "execution_count": null,
      "outputs": []
    },
    {
      "cell_type": "code",
      "source": [
        "x=1\n",
        "y=2\n",
        "if x < y:\n",
        "  print('x가 y보다 작습니다.')\n",
        "elif x>y:\n",
        "  print('x가 y보다 큽니다.')\n",
        "else:\n",
        "  print('x와 y가 같습니다.')"
      ],
      "metadata": {
        "id": "I-SN7WM2GZ6z",
        "outputId": "ba371fc2-cece-4fca-dbd6-bac8fd90b46a",
        "colab": {
          "base_uri": "https://localhost:8080/"
        }
      },
      "execution_count": 5,
      "outputs": [
        {
          "output_type": "stream",
          "name": "stdout",
          "text": [
            "x가 y보다 작습니다.\n"
          ]
        }
      ]
    }
  ],
  "metadata": {
    "colab": {
      "name": "Colab 시작하기",
      "toc_visible": true,
      "provenance": [],
      "include_colab_link": true
    },
    "kernelspec": {
      "display_name": "Python 3",
      "name": "python3"
    }
  },
  "nbformat": 4,
  "nbformat_minor": 0
}