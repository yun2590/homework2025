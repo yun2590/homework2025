{
  "cells": [
    {
      "cell_type": "markdown",
      "metadata": {
        "id": "view-in-github",
        "colab_type": "text"
      },
      "source": [
        "<a href=\"https://colab.research.google.com/github/yun2590/homework2025/blob/main/%ED%8C%8C%EC%9D%B4%EC%8D%AC%20Unit32.ipynb\" target=\"_parent\"><img src=\"https://colab.research.google.com/assets/colab-badge.svg\" alt=\"Open In Colab\"/></a>"
      ]
    },
    {
      "cell_type": "code",
      "source": [
        "h1 = hex(97)\n",
        "h2 = hex(98)\n",
        "print(h1)\n",
        "print(h2)"
      ],
      "metadata": {
        "id": "l62Tlm489lWG",
        "outputId": "1bd02617-b052-411f-9fb1-5b2faa3f9114",
        "colab": {
          "base_uri": "https://localhost:8080/"
        }
      },
      "execution_count": 1,
      "outputs": [
        {
          "output_type": "stream",
          "name": "stdout",
          "text": [
            "0x61\n",
            "0x62\n"
          ]
        }
      ]
    },
    {
      "cell_type": "code",
      "source": [
        "print(h1 + h2)"
      ],
      "metadata": {
        "id": "a8mmSSo292AW",
        "outputId": "1e3f51c9-b4a7-41fa-fa91-c91aa99a5572",
        "colab": {
          "base_uri": "https://localhost:8080/"
        }
      },
      "execution_count": 2,
      "outputs": [
        {
          "output_type": "stream",
          "name": "stdout",
          "text": [
            "0x610x62\n"
          ]
        }
      ]
    },
    {
      "cell_type": "code",
      "source": [
        "hexStr1 = '0x11'\n",
        "hexStr2 = '0x2a'\n",
        "int1 = int(hexStr1, base=16)\n",
        "int2 = int(hexStr2, base=16)\n",
        "hexAnswer = hex(int1 + int2)\n",
        "print(f'{hexStr1} + {hexStr2} = {hexAnswer}')"
      ],
      "metadata": {
        "id": "RAYyOXFQ9427",
        "outputId": "c8116158-1965-4c32-a1ed-0b83cbe521ba",
        "colab": {
          "base_uri": "https://localhost:8080/"
        }
      },
      "execution_count": 3,
      "outputs": [
        {
          "output_type": "stream",
          "name": "stdout",
          "text": [
            "0x11 + 0x2a = 0x3b\n"
          ]
        }
      ]
    }
  ],
  "metadata": {
    "colab": {
      "name": "Colab 시작하기",
      "toc_visible": true,
      "provenance": [],
      "include_colab_link": true
    },
    "kernelspec": {
      "display_name": "Python 3",
      "name": "python3"
    }
  },
  "nbformat": 4,
  "nbformat_minor": 0
}