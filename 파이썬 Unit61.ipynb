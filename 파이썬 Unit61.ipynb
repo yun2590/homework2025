{
  "cells": [
    {
      "cell_type": "markdown",
      "metadata": {
        "id": "view-in-github",
        "colab_type": "text"
      },
      "source": [
        "<a href=\"https://colab.research.google.com/github/yun2590/homework2025/blob/main/%ED%8C%8C%EC%9D%B4%EC%8D%AC%20Unit61.ipynb\" target=\"_parent\"><img src=\"https://colab.research.google.com/assets/colab-badge.svg\" alt=\"Open In Colab\"/></a>"
      ]
    },
    {
      "cell_type": "code",
      "source": [
        "world=[]\n",
        "asia=['한국','중국','일본']\n",
        "europe=['독일','프랑스','영국']\n",
        "america=['미국','캐나다','멕시코']"
      ],
      "metadata": {
        "id": "gxsMcaz5w8ls"
      },
      "execution_count": 9,
      "outputs": []
    },
    {
      "cell_type": "code",
      "source": [
        "world.extend(asia)\n",
        "print(world)"
      ],
      "metadata": {
        "id": "rZyYMxfbxOZD",
        "outputId": "fb2364b6-5eeb-4bda-9b7e-e09533afa7c3",
        "colab": {
          "base_uri": "https://localhost:8080/"
        }
      },
      "execution_count": 10,
      "outputs": [
        {
          "output_type": "stream",
          "name": "stdout",
          "text": [
            "['한국', '중국', '일본']\n"
          ]
        }
      ]
    },
    {
      "cell_type": "code",
      "source": [
        "world.extend(europe)\n",
        "print(world)\n",
        "world.extend(america)\n",
        "print(world)"
      ],
      "metadata": {
        "id": "-z2wDKuDxTOf",
        "outputId": "f96ac3c6-cde6-485c-c5f5-6351432483b6",
        "colab": {
          "base_uri": "https://localhost:8080/"
        }
      },
      "execution_count": 11,
      "outputs": [
        {
          "output_type": "stream",
          "name": "stdout",
          "text": [
            "['한국', '중국', '일본', '독일', '프랑스', '영국']\n",
            "['한국', '중국', '일본', '독일', '프랑스', '영국', '미국', '캐나다', '멕시코']\n"
          ]
        }
      ]
    },
    {
      "cell_type": "code",
      "source": [
        "world.clear()\n",
        "world += asia\n",
        "world += europe\n",
        "print(world)"
      ],
      "metadata": {
        "id": "eQDESVVMxayo",
        "outputId": "c63990cf-016d-4813-a44e-ac73b9d44dcd",
        "colab": {
          "base_uri": "https://localhost:8080/"
        }
      },
      "execution_count": 12,
      "outputs": [
        {
          "output_type": "stream",
          "name": "stdout",
          "text": [
            "['한국', '중국', '일본', '독일', '프랑스', '영국']\n"
          ]
        }
      ]
    }
  ],
  "metadata": {
    "colab": {
      "name": "Colab 시작하기",
      "toc_visible": true,
      "provenance": [],
      "include_colab_link": true
    },
    "kernelspec": {
      "display_name": "Python 3",
      "name": "python3"
    }
  },
  "nbformat": 4,
  "nbformat_minor": 0
}